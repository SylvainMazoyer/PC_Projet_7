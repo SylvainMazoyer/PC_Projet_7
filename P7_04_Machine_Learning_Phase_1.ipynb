{
 "cells": [
  {
   "cell_type": "markdown",
   "id": "e096266c",
   "metadata": {},
   "source": [
    "# P7 Machine Learning Phase 1"
   ]
  },
  {
   "cell_type": "markdown",
   "id": "ae154e95",
   "metadata": {},
   "source": [
    "# 0 Chargement des bibliothèques et des données"
   ]
  },
  {
   "cell_type": "markdown",
   "id": "30d66799",
   "metadata": {},
   "source": [
    "##  0.1 Chargement des bibliothèques"
   ]
  },
  {
   "cell_type": "code",
   "execution_count": 1,
   "id": "dc8a5f29",
   "metadata": {},
   "outputs": [],
   "source": [
    "# Import of pandas, numpy, pyplot and seaborn libraries\n",
    "\n",
    "# Datasets analysis libraries \n",
    "import pandas as pd\n",
    "import numpy as np\n",
    "\n",
    "# Data visualization libraries\n",
    "import matplotlib.pyplot as plt\n",
    "import seaborn as sns\n",
    "from matplotlib import cm\n",
    "\n",
    "# math library\n",
    "import math\n",
    "import statistics\n",
    "\n",
    "# warning management library\n",
    "import warnings\n",
    "\n",
    "# DOS like library\n",
    "import os\n",
    "\n",
    "# Date management\n",
    "from datetime import *\n",
    "from dateutil.relativedelta import *\n",
    "from dateutil.parser import *\n",
    "\n",
    "# ML\n",
    "import sklearn"
   ]
  },
  {
   "cell_type": "markdown",
   "id": "f250f413",
   "metadata": {},
   "source": [
    "## 0.2 Settings"
   ]
  },
  {
   "cell_type": "code",
   "execution_count": 2,
   "id": "9103d9c4",
   "metadata": {},
   "outputs": [],
   "source": [
    "warnings.filterwarnings('ignore')\n",
    "sns.set()\n",
    "pd.set_option('display.max_rows', 500)\n",
    "pd.set_option('display.max_columns', 500)\n",
    "pd.set_option('display.width', 1000)"
   ]
  },
  {
   "cell_type": "markdown",
   "id": "f50e4bde",
   "metadata": {},
   "source": [
    "## 0.3 Chargement des données"
   ]
  },
  {
   "cell_type": "code",
   "execution_count": 3,
   "id": "87cd1fea",
   "metadata": {},
   "outputs": [],
   "source": [
    "path_transformed='/home/emma_sylvain/Formation_OpenClassrooms_DataScientist/Projet_7/transformed//'"
   ]
  },
  {
   "cell_type": "code",
   "execution_count": 4,
   "id": "69644a4d",
   "metadata": {},
   "outputs": [
    {
     "data": {
      "text/html": [
       "<div>\n",
       "<style scoped>\n",
       "    .dataframe tbody tr th:only-of-type {\n",
       "        vertical-align: middle;\n",
       "    }\n",
       "\n",
       "    .dataframe tbody tr th {\n",
       "        vertical-align: top;\n",
       "    }\n",
       "\n",
       "    .dataframe thead th {\n",
       "        text-align: right;\n",
       "    }\n",
       "</style>\n",
       "<table border=\"1\" class=\"dataframe\">\n",
       "  <thead>\n",
       "    <tr style=\"text-align: right;\">\n",
       "      <th></th>\n",
       "      <th>TARGET</th>\n",
       "      <th>CNT_CHILDREN</th>\n",
       "      <th>AMT_INCOME_TOTAL</th>\n",
       "      <th>AMT_CREDIT</th>\n",
       "      <th>AMT_ANNUITY</th>\n",
       "      <th>AMT_GOODS_PRICE</th>\n",
       "      <th>REGION_RATING_CLIENT</th>\n",
       "      <th>REGION_RATING_CLIENT_W_CITY</th>\n",
       "    </tr>\n",
       "  </thead>\n",
       "  <tbody>\n",
       "    <tr>\n",
       "      <th>0</th>\n",
       "      <td>1</td>\n",
       "      <td>0</td>\n",
       "      <td>202500.0</td>\n",
       "      <td>406597.5</td>\n",
       "      <td>24700.5</td>\n",
       "      <td>351000.0</td>\n",
       "      <td>2</td>\n",
       "      <td>2</td>\n",
       "    </tr>\n",
       "    <tr>\n",
       "      <th>1</th>\n",
       "      <td>0</td>\n",
       "      <td>0</td>\n",
       "      <td>270000.0</td>\n",
       "      <td>1293502.5</td>\n",
       "      <td>35698.5</td>\n",
       "      <td>1129500.0</td>\n",
       "      <td>1</td>\n",
       "      <td>1</td>\n",
       "    </tr>\n",
       "    <tr>\n",
       "      <th>2</th>\n",
       "      <td>0</td>\n",
       "      <td>0</td>\n",
       "      <td>67500.0</td>\n",
       "      <td>135000.0</td>\n",
       "      <td>6750.0</td>\n",
       "      <td>135000.0</td>\n",
       "      <td>2</td>\n",
       "      <td>2</td>\n",
       "    </tr>\n",
       "    <tr>\n",
       "      <th>3</th>\n",
       "      <td>0</td>\n",
       "      <td>0</td>\n",
       "      <td>135000.0</td>\n",
       "      <td>312682.5</td>\n",
       "      <td>29686.5</td>\n",
       "      <td>297000.0</td>\n",
       "      <td>2</td>\n",
       "      <td>2</td>\n",
       "    </tr>\n",
       "    <tr>\n",
       "      <th>4</th>\n",
       "      <td>0</td>\n",
       "      <td>0</td>\n",
       "      <td>121500.0</td>\n",
       "      <td>513000.0</td>\n",
       "      <td>21865.5</td>\n",
       "      <td>513000.0</td>\n",
       "      <td>2</td>\n",
       "      <td>2</td>\n",
       "    </tr>\n",
       "    <tr>\n",
       "      <th>...</th>\n",
       "      <td>...</td>\n",
       "      <td>...</td>\n",
       "      <td>...</td>\n",
       "      <td>...</td>\n",
       "      <td>...</td>\n",
       "      <td>...</td>\n",
       "      <td>...</td>\n",
       "      <td>...</td>\n",
       "    </tr>\n",
       "    <tr>\n",
       "      <th>307473</th>\n",
       "      <td>0</td>\n",
       "      <td>0</td>\n",
       "      <td>157500.0</td>\n",
       "      <td>254700.0</td>\n",
       "      <td>27558.0</td>\n",
       "      <td>225000.0</td>\n",
       "      <td>1</td>\n",
       "      <td>1</td>\n",
       "    </tr>\n",
       "    <tr>\n",
       "      <th>307474</th>\n",
       "      <td>0</td>\n",
       "      <td>0</td>\n",
       "      <td>72000.0</td>\n",
       "      <td>269550.0</td>\n",
       "      <td>12001.5</td>\n",
       "      <td>225000.0</td>\n",
       "      <td>2</td>\n",
       "      <td>2</td>\n",
       "    </tr>\n",
       "    <tr>\n",
       "      <th>307475</th>\n",
       "      <td>0</td>\n",
       "      <td>0</td>\n",
       "      <td>153000.0</td>\n",
       "      <td>677664.0</td>\n",
       "      <td>29979.0</td>\n",
       "      <td>585000.0</td>\n",
       "      <td>3</td>\n",
       "      <td>3</td>\n",
       "    </tr>\n",
       "    <tr>\n",
       "      <th>307476</th>\n",
       "      <td>1</td>\n",
       "      <td>0</td>\n",
       "      <td>171000.0</td>\n",
       "      <td>370107.0</td>\n",
       "      <td>20205.0</td>\n",
       "      <td>319500.0</td>\n",
       "      <td>2</td>\n",
       "      <td>2</td>\n",
       "    </tr>\n",
       "    <tr>\n",
       "      <th>307477</th>\n",
       "      <td>0</td>\n",
       "      <td>0</td>\n",
       "      <td>157500.0</td>\n",
       "      <td>675000.0</td>\n",
       "      <td>49117.5</td>\n",
       "      <td>675000.0</td>\n",
       "      <td>1</td>\n",
       "      <td>1</td>\n",
       "    </tr>\n",
       "  </tbody>\n",
       "</table>\n",
       "<p>307478 rows × 8 columns</p>\n",
       "</div>"
      ],
      "text/plain": [
       "        TARGET  CNT_CHILDREN  AMT_INCOME_TOTAL  AMT_CREDIT  AMT_ANNUITY  AMT_GOODS_PRICE  REGION_RATING_CLIENT  REGION_RATING_CLIENT_W_CITY\n",
       "0            1             0          202500.0    406597.5      24700.5         351000.0                     2                            2\n",
       "1            0             0          270000.0   1293502.5      35698.5        1129500.0                     1                            1\n",
       "2            0             0           67500.0    135000.0       6750.0         135000.0                     2                            2\n",
       "3            0             0          135000.0    312682.5      29686.5         297000.0                     2                            2\n",
       "4            0             0          121500.0    513000.0      21865.5         513000.0                     2                            2\n",
       "...        ...           ...               ...         ...          ...              ...                   ...                          ...\n",
       "307473       0             0          157500.0    254700.0      27558.0         225000.0                     1                            1\n",
       "307474       0             0           72000.0    269550.0      12001.5         225000.0                     2                            2\n",
       "307475       0             0          153000.0    677664.0      29979.0         585000.0                     3                            3\n",
       "307476       1             0          171000.0    370107.0      20205.0         319500.0                     2                            2\n",
       "307477       0             0          157500.0    675000.0      49117.5         675000.0                     1                            1\n",
       "\n",
       "[307478 rows x 8 columns]"
      ]
     },
     "execution_count": 4,
     "metadata": {},
     "output_type": "execute_result"
    }
   ],
   "source": [
    "csv_train1=path_transformed+'df_train1.csv'\n",
    "df=pd.read_csv(csv_train1)\n",
    "df"
   ]
  },
  {
   "cell_type": "code",
   "execution_count": 5,
   "id": "3657f630",
   "metadata": {},
   "outputs": [
    {
     "data": {
      "text/plain": [
       "Index(['TARGET', 'CNT_CHILDREN', 'AMT_INCOME_TOTAL', 'AMT_CREDIT', 'AMT_ANNUITY', 'AMT_GOODS_PRICE', 'REGION_RATING_CLIENT', 'REGION_RATING_CLIENT_W_CITY'], dtype='object')"
      ]
     },
     "execution_count": 5,
     "metadata": {},
     "output_type": "execute_result"
    }
   ],
   "source": [
    "df.columns"
   ]
  },
  {
   "cell_type": "markdown",
   "id": "b067d8da",
   "metadata": {},
   "source": [
    "# 1 Machine Learning Phase 1"
   ]
  },
  {
   "cell_type": "markdown",
   "id": "5e1efc06",
   "metadata": {},
   "source": [
    "# 1.1 Utilisation de Stratified KFold pour préserver le nombre de classes par échantillon"
   ]
  },
  {
   "cell_type": "code",
   "execution_count": 6,
   "id": "e8a124b6",
   "metadata": {},
   "outputs": [],
   "source": [
    "from sklearn.model_selection import StratifiedKFold"
   ]
  },
  {
   "cell_type": "code",
   "execution_count": 7,
   "id": "41d49079",
   "metadata": {},
   "outputs": [],
   "source": [
    "skf=StratifiedKFold(n_splits=2)"
   ]
  },
  {
   "cell_type": "code",
   "execution_count": 8,
   "id": "6a0095a1",
   "metadata": {},
   "outputs": [],
   "source": [
    "select_features=['CNT_CHILDREN', 'AMT_INCOME_TOTAL', 'AMT_CREDIT', 'AMT_ANNUITY', 'AMT_GOODS_PRICE', 'REGION_RATING_CLIENT', 'REGION_RATING_CLIENT_W_CITY']"
   ]
  },
  {
   "cell_type": "code",
   "execution_count": 9,
   "id": "7cafd638",
   "metadata": {},
   "outputs": [],
   "source": [
    "X=df[select_features]"
   ]
  },
  {
   "cell_type": "code",
   "execution_count": 10,
   "id": "d97ba94d",
   "metadata": {},
   "outputs": [
    {
     "data": {
      "text/plain": [
       "307478"
      ]
     },
     "execution_count": 10,
     "metadata": {},
     "output_type": "execute_result"
    }
   ],
   "source": [
    "len(X)"
   ]
  },
  {
   "cell_type": "code",
   "execution_count": 11,
   "id": "6cc65771",
   "metadata": {},
   "outputs": [],
   "source": [
    "X=X.reset_index(drop=True)"
   ]
  },
  {
   "cell_type": "code",
   "execution_count": 12,
   "id": "29be96bd",
   "metadata": {},
   "outputs": [
    {
     "data": {
      "text/html": [
       "<div>\n",
       "<style scoped>\n",
       "    .dataframe tbody tr th:only-of-type {\n",
       "        vertical-align: middle;\n",
       "    }\n",
       "\n",
       "    .dataframe tbody tr th {\n",
       "        vertical-align: top;\n",
       "    }\n",
       "\n",
       "    .dataframe thead th {\n",
       "        text-align: right;\n",
       "    }\n",
       "</style>\n",
       "<table border=\"1\" class=\"dataframe\">\n",
       "  <thead>\n",
       "    <tr style=\"text-align: right;\">\n",
       "      <th></th>\n",
       "      <th>CNT_CHILDREN</th>\n",
       "      <th>AMT_INCOME_TOTAL</th>\n",
       "      <th>AMT_CREDIT</th>\n",
       "      <th>AMT_ANNUITY</th>\n",
       "      <th>AMT_GOODS_PRICE</th>\n",
       "      <th>REGION_RATING_CLIENT</th>\n",
       "      <th>REGION_RATING_CLIENT_W_CITY</th>\n",
       "    </tr>\n",
       "  </thead>\n",
       "  <tbody>\n",
       "    <tr>\n",
       "      <th>0</th>\n",
       "      <td>0</td>\n",
       "      <td>202500.0</td>\n",
       "      <td>406597.5</td>\n",
       "      <td>24700.5</td>\n",
       "      <td>351000.0</td>\n",
       "      <td>2</td>\n",
       "      <td>2</td>\n",
       "    </tr>\n",
       "    <tr>\n",
       "      <th>1</th>\n",
       "      <td>0</td>\n",
       "      <td>270000.0</td>\n",
       "      <td>1293502.5</td>\n",
       "      <td>35698.5</td>\n",
       "      <td>1129500.0</td>\n",
       "      <td>1</td>\n",
       "      <td>1</td>\n",
       "    </tr>\n",
       "    <tr>\n",
       "      <th>2</th>\n",
       "      <td>0</td>\n",
       "      <td>67500.0</td>\n",
       "      <td>135000.0</td>\n",
       "      <td>6750.0</td>\n",
       "      <td>135000.0</td>\n",
       "      <td>2</td>\n",
       "      <td>2</td>\n",
       "    </tr>\n",
       "    <tr>\n",
       "      <th>3</th>\n",
       "      <td>0</td>\n",
       "      <td>135000.0</td>\n",
       "      <td>312682.5</td>\n",
       "      <td>29686.5</td>\n",
       "      <td>297000.0</td>\n",
       "      <td>2</td>\n",
       "      <td>2</td>\n",
       "    </tr>\n",
       "    <tr>\n",
       "      <th>4</th>\n",
       "      <td>0</td>\n",
       "      <td>121500.0</td>\n",
       "      <td>513000.0</td>\n",
       "      <td>21865.5</td>\n",
       "      <td>513000.0</td>\n",
       "      <td>2</td>\n",
       "      <td>2</td>\n",
       "    </tr>\n",
       "    <tr>\n",
       "      <th>...</th>\n",
       "      <td>...</td>\n",
       "      <td>...</td>\n",
       "      <td>...</td>\n",
       "      <td>...</td>\n",
       "      <td>...</td>\n",
       "      <td>...</td>\n",
       "      <td>...</td>\n",
       "    </tr>\n",
       "    <tr>\n",
       "      <th>307473</th>\n",
       "      <td>0</td>\n",
       "      <td>157500.0</td>\n",
       "      <td>254700.0</td>\n",
       "      <td>27558.0</td>\n",
       "      <td>225000.0</td>\n",
       "      <td>1</td>\n",
       "      <td>1</td>\n",
       "    </tr>\n",
       "    <tr>\n",
       "      <th>307474</th>\n",
       "      <td>0</td>\n",
       "      <td>72000.0</td>\n",
       "      <td>269550.0</td>\n",
       "      <td>12001.5</td>\n",
       "      <td>225000.0</td>\n",
       "      <td>2</td>\n",
       "      <td>2</td>\n",
       "    </tr>\n",
       "    <tr>\n",
       "      <th>307475</th>\n",
       "      <td>0</td>\n",
       "      <td>153000.0</td>\n",
       "      <td>677664.0</td>\n",
       "      <td>29979.0</td>\n",
       "      <td>585000.0</td>\n",
       "      <td>3</td>\n",
       "      <td>3</td>\n",
       "    </tr>\n",
       "    <tr>\n",
       "      <th>307476</th>\n",
       "      <td>0</td>\n",
       "      <td>171000.0</td>\n",
       "      <td>370107.0</td>\n",
       "      <td>20205.0</td>\n",
       "      <td>319500.0</td>\n",
       "      <td>2</td>\n",
       "      <td>2</td>\n",
       "    </tr>\n",
       "    <tr>\n",
       "      <th>307477</th>\n",
       "      <td>0</td>\n",
       "      <td>157500.0</td>\n",
       "      <td>675000.0</td>\n",
       "      <td>49117.5</td>\n",
       "      <td>675000.0</td>\n",
       "      <td>1</td>\n",
       "      <td>1</td>\n",
       "    </tr>\n",
       "  </tbody>\n",
       "</table>\n",
       "<p>307478 rows × 7 columns</p>\n",
       "</div>"
      ],
      "text/plain": [
       "        CNT_CHILDREN  AMT_INCOME_TOTAL  AMT_CREDIT  AMT_ANNUITY  AMT_GOODS_PRICE  REGION_RATING_CLIENT  REGION_RATING_CLIENT_W_CITY\n",
       "0                  0          202500.0    406597.5      24700.5         351000.0                     2                            2\n",
       "1                  0          270000.0   1293502.5      35698.5        1129500.0                     1                            1\n",
       "2                  0           67500.0    135000.0       6750.0         135000.0                     2                            2\n",
       "3                  0          135000.0    312682.5      29686.5         297000.0                     2                            2\n",
       "4                  0          121500.0    513000.0      21865.5         513000.0                     2                            2\n",
       "...              ...               ...         ...          ...              ...                   ...                          ...\n",
       "307473             0          157500.0    254700.0      27558.0         225000.0                     1                            1\n",
       "307474             0           72000.0    269550.0      12001.5         225000.0                     2                            2\n",
       "307475             0          153000.0    677664.0      29979.0         585000.0                     3                            3\n",
       "307476             0          171000.0    370107.0      20205.0         319500.0                     2                            2\n",
       "307477             0          157500.0    675000.0      49117.5         675000.0                     1                            1\n",
       "\n",
       "[307478 rows x 7 columns]"
      ]
     },
     "execution_count": 12,
     "metadata": {},
     "output_type": "execute_result"
    }
   ],
   "source": [
    "X"
   ]
  },
  {
   "cell_type": "code",
   "execution_count": 13,
   "id": "53e62063",
   "metadata": {},
   "outputs": [],
   "source": [
    "y=df['TARGET']"
   ]
  },
  {
   "cell_type": "code",
   "execution_count": 14,
   "id": "857bde41",
   "metadata": {},
   "outputs": [
    {
     "data": {
      "text/plain": [
       "307478"
      ]
     },
     "execution_count": 14,
     "metadata": {},
     "output_type": "execute_result"
    }
   ],
   "source": [
    "len(y)"
   ]
  },
  {
   "cell_type": "code",
   "execution_count": 15,
   "id": "e6fffa0b",
   "metadata": {},
   "outputs": [],
   "source": [
    "y=y.reset_index(drop=True)"
   ]
  },
  {
   "cell_type": "code",
   "execution_count": 16,
   "id": "d3b98249",
   "metadata": {},
   "outputs": [
    {
     "data": {
      "text/plain": [
       "0         1\n",
       "1         0\n",
       "2         0\n",
       "3         0\n",
       "4         0\n",
       "         ..\n",
       "307473    0\n",
       "307474    0\n",
       "307475    0\n",
       "307476    1\n",
       "307477    0\n",
       "Name: TARGET, Length: 307478, dtype: int64"
      ]
     },
     "execution_count": 16,
     "metadata": {},
     "output_type": "execute_result"
    }
   ],
   "source": [
    "y"
   ]
  },
  {
   "cell_type": "code",
   "execution_count": 17,
   "id": "2a3f3819",
   "metadata": {},
   "outputs": [],
   "source": [
    "X=np.array(X)"
   ]
  },
  {
   "cell_type": "code",
   "execution_count": 18,
   "id": "1cf8668c",
   "metadata": {},
   "outputs": [],
   "source": [
    "y=np.array(y)"
   ]
  },
  {
   "cell_type": "code",
   "execution_count": 19,
   "id": "6507854a",
   "metadata": {},
   "outputs": [],
   "source": [
    "for train_index, test_index in skf.split(X, y):\n",
    "    #print(\"TRAIN:\", train_index, \"TEST:\", test_index)\n",
    "    X_train, X_test = X[train_index], X[test_index]\n",
    "    y_train, y_test = y[train_index], y[test_index]"
   ]
  },
  {
   "cell_type": "markdown",
   "id": "949ff70e",
   "metadata": {},
   "source": [
    "### Premier essai avec un RF Classifier"
   ]
  },
  {
   "cell_type": "code",
   "execution_count": 20,
   "id": "4361297b",
   "metadata": {},
   "outputs": [],
   "source": [
    "from sklearn.ensemble import RandomForestClassifier "
   ]
  },
  {
   "cell_type": "code",
   "execution_count": 21,
   "id": "1f880027",
   "metadata": {},
   "outputs": [],
   "source": [
    "rfc=RandomForestClassifier(max_depth=10,random_state=0)"
   ]
  },
  {
   "cell_type": "code",
   "execution_count": 22,
   "id": "7cfb091c",
   "metadata": {},
   "outputs": [],
   "source": [
    "result=rfc.fit(X_train,y_train)"
   ]
  },
  {
   "cell_type": "code",
   "execution_count": 23,
   "id": "4ec805b0",
   "metadata": {},
   "outputs": [],
   "source": [
    "from sklearn.metrics import accuracy_score"
   ]
  },
  {
   "cell_type": "code",
   "execution_count": 24,
   "id": "3e93df9d",
   "metadata": {},
   "outputs": [],
   "source": [
    "y_pred=rfc.predict(X_test)"
   ]
  },
  {
   "cell_type": "code",
   "execution_count": 25,
   "id": "c1e2ed65",
   "metadata": {},
   "outputs": [
    {
     "data": {
      "text/plain": [
       "0.9192722731382408"
      ]
     },
     "execution_count": 25,
     "metadata": {},
     "output_type": "execute_result"
    }
   ],
   "source": [
    "accuracy=accuracy_score(y_test, y_pred)\n",
    "accuracy"
   ]
  },
  {
   "cell_type": "code",
   "execution_count": 26,
   "id": "f0033ab5",
   "metadata": {},
   "outputs": [
    {
     "data": {
      "text/plain": [
       "0.9192722731382408"
      ]
     },
     "execution_count": 26,
     "metadata": {},
     "output_type": "execute_result"
    }
   ],
   "source": [
    "score=rfc.score(X_test, y_test)\n",
    "score"
   ]
  },
  {
   "cell_type": "code",
   "execution_count": 27,
   "id": "6718f7b4",
   "metadata": {},
   "outputs": [],
   "source": [
    "from sklearn.metrics import confusion_matrix"
   ]
  },
  {
   "cell_type": "code",
   "execution_count": 28,
   "id": "4b7438c8",
   "metadata": {},
   "outputs": [
    {
     "data": {
      "text/plain": [
       "array([[141328,      1],\n",
       "       [ 12410,      0]])"
      ]
     },
     "execution_count": 28,
     "metadata": {},
     "output_type": "execute_result"
    }
   ],
   "source": [
    "conf_mat=confusion_matrix(y_test,y_pred)\n",
    "conf_mat"
   ]
  },
  {
   "cell_type": "code",
   "execution_count": 29,
   "id": "ce0adedd",
   "metadata": {},
   "outputs": [],
   "source": [
    "from sklearn.metrics import roc_auc_score, f1_score"
   ]
  },
  {
   "cell_type": "code",
   "execution_count": 30,
   "id": "4daabde4",
   "metadata": {},
   "outputs": [
    {
     "data": {
      "text/plain": [
       "0.4999964621556793"
      ]
     },
     "execution_count": 30,
     "metadata": {},
     "output_type": "execute_result"
    }
   ],
   "source": [
    "auroc=roc_auc_score(y_test,y_pred)\n",
    "auroc"
   ]
  },
  {
   "cell_type": "code",
   "execution_count": 31,
   "id": "710695f1",
   "metadata": {},
   "outputs": [
    {
     "data": {
      "text/plain": [
       "0.0"
      ]
     },
     "execution_count": 31,
     "metadata": {},
     "output_type": "execute_result"
    }
   ],
   "source": [
    "f1_sc=f1_score(y_test,y_pred)\n",
    "f1_sc"
   ]
  },
  {
   "cell_type": "markdown",
   "id": "6793944c",
   "metadata": {},
   "source": [
    "### Le modèle trouve beaucoup de faux négatifs. Modèle noyé sous 0. Travailler sur imbalanced classes."
   ]
  },
  {
   "cell_type": "markdown",
   "id": "ca1b1177",
   "metadata": {},
   "source": [
    "## 1.2 Essai avec une gridsearchCV (StratifiedKFolds utilisé) puis RF"
   ]
  },
  {
   "cell_type": "code",
   "execution_count": 32,
   "id": "319fd529",
   "metadata": {},
   "outputs": [],
   "source": [
    "from sklearn.model_selection import GridSearchCV"
   ]
  },
  {
   "cell_type": "code",
   "execution_count": 33,
   "id": "a9296c3b",
   "metadata": {},
   "outputs": [],
   "source": [
    "grid=GridSearchCV(rfc,{},cv=5,scoring='roc_auc')"
   ]
  },
  {
   "cell_type": "code",
   "execution_count": 34,
   "id": "5ca24c07",
   "metadata": {},
   "outputs": [],
   "source": [
    "result=grid.fit(X,y)"
   ]
  },
  {
   "cell_type": "code",
   "execution_count": 35,
   "id": "e06e1aab",
   "metadata": {},
   "outputs": [
    {
     "name": "stdout",
     "output_type": "stream",
     "text": [
      "Accuracy:  0.9192917867294571\n"
     ]
    }
   ],
   "source": [
    "yhat = grid.predict(X)\n",
    "print(\"Accuracy: \",accuracy_score(y, yhat))"
   ]
  },
  {
   "cell_type": "code",
   "execution_count": 36,
   "id": "4309af37",
   "metadata": {},
   "outputs": [
    {
     "data": {
      "text/plain": [
       "0.5000805801772764"
      ]
     },
     "execution_count": 36,
     "metadata": {},
     "output_type": "execute_result"
    }
   ],
   "source": [
    "auroc=roc_auc_score(y,yhat)\n",
    "auroc"
   ]
  },
  {
   "cell_type": "code",
   "execution_count": 37,
   "id": "a82c60d3",
   "metadata": {},
   "outputs": [
    {
     "data": {
      "text/plain": [
       "0.00032226877215597806"
      ]
     },
     "execution_count": 37,
     "metadata": {},
     "output_type": "execute_result"
    }
   ],
   "source": [
    "f1_sc=f1_score(y,yhat)\n",
    "f1_sc"
   ]
  },
  {
   "cell_type": "code",
   "execution_count": 38,
   "id": "92bdf4ac",
   "metadata": {},
   "outputs": [
    {
     "data": {
      "text/html": [
       "<div>\n",
       "<style scoped>\n",
       "    .dataframe tbody tr th:only-of-type {\n",
       "        vertical-align: middle;\n",
       "    }\n",
       "\n",
       "    .dataframe tbody tr th {\n",
       "        vertical-align: top;\n",
       "    }\n",
       "\n",
       "    .dataframe thead th {\n",
       "        text-align: right;\n",
       "    }\n",
       "</style>\n",
       "<table border=\"1\" class=\"dataframe\">\n",
       "  <thead>\n",
       "    <tr style=\"text-align: right;\">\n",
       "      <th></th>\n",
       "      <th>mean_fit_time</th>\n",
       "      <th>std_fit_time</th>\n",
       "      <th>mean_score_time</th>\n",
       "      <th>std_score_time</th>\n",
       "      <th>params</th>\n",
       "      <th>split0_test_score</th>\n",
       "      <th>split1_test_score</th>\n",
       "      <th>split2_test_score</th>\n",
       "      <th>split3_test_score</th>\n",
       "      <th>split4_test_score</th>\n",
       "      <th>mean_test_score</th>\n",
       "      <th>std_test_score</th>\n",
       "      <th>rank_test_score</th>\n",
       "    </tr>\n",
       "  </thead>\n",
       "  <tbody>\n",
       "    <tr>\n",
       "      <th>0</th>\n",
       "      <td>18.950782</td>\n",
       "      <td>3.063153</td>\n",
       "      <td>0.60575</td>\n",
       "      <td>0.035157</td>\n",
       "      <td>{}</td>\n",
       "      <td>0.645796</td>\n",
       "      <td>0.632068</td>\n",
       "      <td>0.628966</td>\n",
       "      <td>0.633096</td>\n",
       "      <td>0.63666</td>\n",
       "      <td>0.635317</td>\n",
       "      <td>0.005787</td>\n",
       "      <td>1</td>\n",
       "    </tr>\n",
       "  </tbody>\n",
       "</table>\n",
       "</div>"
      ],
      "text/plain": [
       "   mean_fit_time  std_fit_time  mean_score_time  std_score_time params  split0_test_score  split1_test_score  split2_test_score  split3_test_score  split4_test_score  mean_test_score  std_test_score  rank_test_score\n",
       "0      18.950782      3.063153          0.60575        0.035157     {}           0.645796           0.632068           0.628966           0.633096            0.63666         0.635317        0.005787                1"
      ]
     },
     "execution_count": 38,
     "metadata": {},
     "output_type": "execute_result"
    }
   ],
   "source": [
    "scores=pd.DataFrame(grid.cv_results_)\n",
    "scores"
   ]
  },
  {
   "cell_type": "markdown",
   "id": "2a8084c5",
   "metadata": {},
   "source": [
    "## 1.3 Essai avec Gradient boosting Classifier"
   ]
  },
  {
   "cell_type": "code",
   "execution_count": 39,
   "id": "2da4331e",
   "metadata": {},
   "outputs": [],
   "source": [
    "from sklearn.ensemble import GradientBoostingClassifier"
   ]
  },
  {
   "cell_type": "code",
   "execution_count": 40,
   "id": "bc050084",
   "metadata": {},
   "outputs": [],
   "source": [
    "gbc=GradientBoostingClassifier(max_features='auto')"
   ]
  },
  {
   "cell_type": "code",
   "execution_count": 41,
   "id": "754ad1ea",
   "metadata": {},
   "outputs": [],
   "source": [
    "grid=GridSearchCV(gbc,{},cv=5, scoring='roc_auc')"
   ]
  },
  {
   "cell_type": "code",
   "execution_count": 42,
   "id": "fc8f9bb5",
   "metadata": {},
   "outputs": [],
   "source": [
    "result=grid.fit(X,y)"
   ]
  },
  {
   "cell_type": "code",
   "execution_count": 43,
   "id": "f591f761",
   "metadata": {},
   "outputs": [
    {
     "name": "stdout",
     "output_type": "stream",
     "text": [
      "Accuracy:  0.9192982912598625\n"
     ]
    }
   ],
   "source": [
    "yhat = grid.predict(X)\n",
    "print(\"Accuracy: \",accuracy_score(y, yhat))"
   ]
  },
  {
   "cell_type": "code",
   "execution_count": 44,
   "id": "f982dcff",
   "metadata": {},
   "outputs": [
    {
     "data": {
      "text/html": [
       "<div>\n",
       "<style scoped>\n",
       "    .dataframe tbody tr th:only-of-type {\n",
       "        vertical-align: middle;\n",
       "    }\n",
       "\n",
       "    .dataframe tbody tr th {\n",
       "        vertical-align: top;\n",
       "    }\n",
       "\n",
       "    .dataframe thead th {\n",
       "        text-align: right;\n",
       "    }\n",
       "</style>\n",
       "<table border=\"1\" class=\"dataframe\">\n",
       "  <thead>\n",
       "    <tr style=\"text-align: right;\">\n",
       "      <th></th>\n",
       "      <th>mean_fit_time</th>\n",
       "      <th>std_fit_time</th>\n",
       "      <th>mean_score_time</th>\n",
       "      <th>std_score_time</th>\n",
       "      <th>params</th>\n",
       "      <th>split0_test_score</th>\n",
       "      <th>split1_test_score</th>\n",
       "      <th>split2_test_score</th>\n",
       "      <th>split3_test_score</th>\n",
       "      <th>split4_test_score</th>\n",
       "      <th>mean_test_score</th>\n",
       "      <th>std_test_score</th>\n",
       "      <th>rank_test_score</th>\n",
       "    </tr>\n",
       "  </thead>\n",
       "  <tbody>\n",
       "    <tr>\n",
       "      <th>0</th>\n",
       "      <td>28.763265</td>\n",
       "      <td>1.769133</td>\n",
       "      <td>0.092571</td>\n",
       "      <td>0.000723</td>\n",
       "      <td>{}</td>\n",
       "      <td>0.643773</td>\n",
       "      <td>0.629634</td>\n",
       "      <td>0.630434</td>\n",
       "      <td>0.633232</td>\n",
       "      <td>0.633352</td>\n",
       "      <td>0.634085</td>\n",
       "      <td>0.005065</td>\n",
       "      <td>1</td>\n",
       "    </tr>\n",
       "  </tbody>\n",
       "</table>\n",
       "</div>"
      ],
      "text/plain": [
       "   mean_fit_time  std_fit_time  mean_score_time  std_score_time params  split0_test_score  split1_test_score  split2_test_score  split3_test_score  split4_test_score  mean_test_score  std_test_score  rank_test_score\n",
       "0      28.763265      1.769133         0.092571        0.000723     {}           0.643773           0.629634           0.630434           0.633232           0.633352         0.634085        0.005065                1"
      ]
     },
     "execution_count": 44,
     "metadata": {},
     "output_type": "execute_result"
    }
   ],
   "source": [
    "scores=pd.DataFrame(grid.cv_results_)\n",
    "scores"
   ]
  },
  {
   "cell_type": "code",
   "execution_count": 45,
   "id": "96b2dd0c",
   "metadata": {},
   "outputs": [
    {
     "data": {
      "text/plain": [
       "0.5001208702659146"
      ]
     },
     "execution_count": 45,
     "metadata": {},
     "output_type": "execute_result"
    }
   ],
   "source": [
    "auroc=roc_auc_score(y,yhat)\n",
    "auroc"
   ]
  },
  {
   "cell_type": "code",
   "execution_count": 46,
   "id": "4b6204b8",
   "metadata": {},
   "outputs": [
    {
     "data": {
      "text/plain": [
       "0.00048336421493595425"
      ]
     },
     "execution_count": 46,
     "metadata": {},
     "output_type": "execute_result"
    }
   ],
   "source": [
    "f1_sc=f1_score(y,yhat)\n",
    "f1_sc"
   ]
  },
  {
   "cell_type": "markdown",
   "id": "5b5c9575",
   "metadata": {},
   "source": [
    "### Dans les deux cas la précision n'est pas meilleure que si nous avions attribué toutes les targets à 0, vu que le ratio des classes est de 0.08"
   ]
  },
  {
   "cell_type": "markdown",
   "id": "9090cdf7",
   "metadata": {},
   "source": [
    "### Tester à la main l'équilibre des classes (10-30% des données), équivalent d'un under simplang à la main, avec concat."
   ]
  },
  {
   "cell_type": "markdown",
   "id": "41e0ba0a",
   "metadata": {},
   "source": [
    "### Utiliser d'autres métriques et feature engineering du kaggle (voir slack). Tutorials OC (voir slack Damien) : smot, faire pipeline avec smot, randomUndersampler (créé classes équilibrés) comme sampler (transformer les classes), scaler : quantiletransformer (contrebalance déséquilibre). A faire en dernier, hyperparam du modèle : class_weight (logisticregression par ex, et trouver le bonen équilibrage). Tester toutes ces solutions."
   ]
  },
  {
   "cell_type": "markdown",
   "id": "d07aa5cb",
   "metadata": {},
   "source": [
    "### Voir F1 et F2 score"
   ]
  },
  {
   "cell_type": "markdown",
   "id": "d8c3508a",
   "metadata": {},
   "source": [
    "### Tester LogisticRegression, demi regressor classifier, xgboost, lgbm"
   ]
  },
  {
   "cell_type": "markdown",
   "id": "73e5048b",
   "metadata": {},
   "source": [
    "### choisir 10-15 features, puis kaggle prend toutes les features (onehotencoder), puis virer les corrélés. voir pipeline MLernia"
   ]
  },
  {
   "cell_type": "markdown",
   "id": "89bb1ad8",
   "metadata": {},
   "source": [
    "## 1.4 Essai avec un quantileScaler pour contrebalancer les classes déséquilibrées"
   ]
  },
  {
   "cell_type": "code",
   "execution_count": 47,
   "id": "082f2ce7",
   "metadata": {},
   "outputs": [],
   "source": [
    "from sklearn.preprocessing import QuantileTransformer"
   ]
  },
  {
   "cell_type": "code",
   "execution_count": 48,
   "id": "2deda096",
   "metadata": {},
   "outputs": [],
   "source": [
    "qt=QuantileTransformer(random_state=0)"
   ]
  },
  {
   "cell_type": "code",
   "execution_count": 49,
   "id": "bfcb1ff1",
   "metadata": {},
   "outputs": [],
   "source": [
    "X_train_qt=qt.fit_transform(X_train, y_train)"
   ]
  },
  {
   "cell_type": "code",
   "execution_count": 50,
   "id": "10d83b77",
   "metadata": {},
   "outputs": [
    {
     "data": {
      "text/plain": [
       "(153739, 7)"
      ]
     },
     "execution_count": 50,
     "metadata": {},
     "output_type": "execute_result"
    }
   ],
   "source": [
    "X_train_qt.shape"
   ]
  },
  {
   "cell_type": "code",
   "execution_count": 51,
   "id": "6595c4dd",
   "metadata": {},
   "outputs": [
    {
     "data": {
      "text/plain": [
       "(153739,)"
      ]
     },
     "execution_count": 51,
     "metadata": {},
     "output_type": "execute_result"
    }
   ],
   "source": [
    "y_train.shape"
   ]
  },
  {
   "cell_type": "code",
   "execution_count": 52,
   "id": "1866518c",
   "metadata": {},
   "outputs": [],
   "source": [
    "result=rfc.fit(X_train_qt,y_train)"
   ]
  },
  {
   "cell_type": "code",
   "execution_count": 53,
   "id": "72af42b8",
   "metadata": {},
   "outputs": [],
   "source": [
    "X_test_qt=qt.transform(X_test)"
   ]
  },
  {
   "cell_type": "code",
   "execution_count": 54,
   "id": "38369cbd",
   "metadata": {},
   "outputs": [
    {
     "data": {
      "text/plain": [
       "0.9192722731382408"
      ]
     },
     "execution_count": 54,
     "metadata": {},
     "output_type": "execute_result"
    }
   ],
   "source": [
    "score=rfc.score(X_test_qt, y_test)\n",
    "score"
   ]
  },
  {
   "cell_type": "code",
   "execution_count": 55,
   "id": "d2bf8423",
   "metadata": {},
   "outputs": [
    {
     "data": {
      "text/plain": [
       "array([[141328,      1],\n",
       "       [ 12410,      0]])"
      ]
     },
     "execution_count": 55,
     "metadata": {},
     "output_type": "execute_result"
    }
   ],
   "source": [
    "yhat=rfc.predict(X_test_qt)\n",
    "conf_mat=confusion_matrix(y_test,yhat)\n",
    "conf_mat"
   ]
  },
  {
   "cell_type": "code",
   "execution_count": 56,
   "id": "bc770edd",
   "metadata": {},
   "outputs": [
    {
     "data": {
      "text/plain": [
       "0.4999964621556793"
      ]
     },
     "execution_count": 56,
     "metadata": {},
     "output_type": "execute_result"
    }
   ],
   "source": [
    "auroc=roc_auc_score(y_test,yhat)\n",
    "auroc"
   ]
  },
  {
   "cell_type": "code",
   "execution_count": 57,
   "id": "0f100bc2",
   "metadata": {},
   "outputs": [
    {
     "data": {
      "text/plain": [
       "0.0"
      ]
     },
     "execution_count": 57,
     "metadata": {},
     "output_type": "execute_result"
    }
   ],
   "source": [
    "f1_sc=f1_score(y_test,yhat)\n",
    "f1_sc"
   ]
  },
  {
   "cell_type": "markdown",
   "id": "be7fe44a",
   "metadata": {},
   "source": [
    "## 1.5 Essai using SMOTE"
   ]
  },
  {
   "cell_type": "code",
   "execution_count": 58,
   "id": "0226ef1b",
   "metadata": {},
   "outputs": [],
   "source": [
    "from imblearn.over_sampling import SMOTE\n",
    "from imblearn.under_sampling import RandomUnderSampler"
   ]
  },
  {
   "cell_type": "code",
   "execution_count": 59,
   "id": "9768dece",
   "metadata": {},
   "outputs": [],
   "source": [
    "param_dict={'sampling' : [SMOTE(),RandomUnderSampler(), \"passthrough\"]}"
   ]
  },
  {
   "cell_type": "code",
   "execution_count": 60,
   "id": "a7f1fc30",
   "metadata": {},
   "outputs": [
    {
     "name": "stdout",
     "output_type": "stream",
     "text": [
      "Fitting 5 folds for each of 3 candidates, totalling 15 fits\n"
     ]
    },
    {
     "name": "stderr",
     "output_type": "stream",
     "text": [
      "/home/emma_sylvain/anaconda3/lib/python3.9/site-packages/sklearn/model_selection/_validation.py:615: FitFailedWarning: Estimator fit failed. The score on this train-test partition for these parameters will be set to nan. Details: \n",
      "Traceback (most recent call last):\n",
      "  File \"/home/emma_sylvain/anaconda3/lib/python3.9/site-packages/sklearn/model_selection/_validation.py\", line 598, in _fit_and_score\n",
      "    estimator.fit(X_train, y_train, **fit_params)\n",
      "  File \"/home/emma_sylvain/anaconda3/lib/python3.9/site-packages/imblearn/pipeline.py\", line 281, in fit\n",
      "    self._final_estimator.fit(Xt, yt, **fit_params)\n",
      "  File \"/home/emma_sylvain/anaconda3/lib/python3.9/site-packages/sklearn/ensemble/_forest.py\", line 387, in fit\n",
      "    trees = Parallel(n_jobs=self.n_jobs, verbose=self.verbose,\n",
      "  File \"/home/emma_sylvain/anaconda3/lib/python3.9/site-packages/joblib/parallel.py\", line 1046, in __call__\n",
      "    while self.dispatch_one_batch(iterator):\n",
      "  File \"/home/emma_sylvain/anaconda3/lib/python3.9/site-packages/joblib/parallel.py\", line 861, in dispatch_one_batch\n",
      "    self._dispatch(tasks)\n",
      "  File \"/home/emma_sylvain/anaconda3/lib/python3.9/site-packages/joblib/parallel.py\", line 779, in _dispatch\n",
      "    job = self._backend.apply_async(batch, callback=cb)\n",
      "  File \"/home/emma_sylvain/anaconda3/lib/python3.9/site-packages/joblib/_parallel_backends.py\", line 208, in apply_async\n",
      "    result = ImmediateResult(func)\n",
      "  File \"/home/emma_sylvain/anaconda3/lib/python3.9/site-packages/joblib/_parallel_backends.py\", line 572, in __init__\n",
      "    self.results = batch()\n",
      "  File \"/home/emma_sylvain/anaconda3/lib/python3.9/site-packages/joblib/parallel.py\", line 262, in __call__\n",
      "    return [func(*args, **kwargs)\n",
      "  File \"/home/emma_sylvain/anaconda3/lib/python3.9/site-packages/joblib/parallel.py\", line 262, in <listcomp>\n",
      "    return [func(*args, **kwargs)\n",
      "  File \"/home/emma_sylvain/anaconda3/lib/python3.9/site-packages/sklearn/utils/fixes.py\", line 222, in __call__\n",
      "    return self.function(*args, **kwargs)\n",
      "  File \"/home/emma_sylvain/anaconda3/lib/python3.9/site-packages/sklearn/ensemble/_forest.py\", line 169, in _parallel_build_trees\n",
      "    tree.fit(X, y, sample_weight=curr_sample_weight, check_input=False)\n",
      "  File \"/home/emma_sylvain/anaconda3/lib/python3.9/site-packages/sklearn/tree/_classes.py\", line 903, in fit\n",
      "    super().fit(\n",
      "  File \"/home/emma_sylvain/anaconda3/lib/python3.9/site-packages/sklearn/tree/_classes.py\", line 191, in fit\n",
      "    check_classification_targets(y)\n",
      "  File \"/home/emma_sylvain/anaconda3/lib/python3.9/site-packages/sklearn/utils/multiclass.py\", line 183, in check_classification_targets\n",
      "    raise ValueError(\"Unknown label type: %r\" % y_type)\n",
      "ValueError: Unknown label type: 'continuous'\n",
      "\n",
      "  warnings.warn(\"Estimator fit failed. The score on this train-test\"\n"
     ]
    },
    {
     "data": {
      "text/plain": [
       "GridSearchCV(cv=5,\n",
       "             estimator=Pipeline(steps=[('sampling', SMOTE()),\n",
       "                                       ('classification',\n",
       "                                        RandomForestClassifier(max_depth=10,\n",
       "                                                               random_state=0))]),\n",
       "             n_jobs=-1,\n",
       "             param_grid={'sampling': [SMOTE(), RandomUnderSampler(),\n",
       "                                      'passthrough']},\n",
       "             scoring='roc_auc', verbose=1)"
      ]
     },
     "execution_count": 60,
     "metadata": {},
     "output_type": "execute_result"
    }
   ],
   "source": [
    "from imblearn.pipeline import Pipeline\n",
    "pipe = Pipeline([\n",
    "        ('sampling', SMOTE()),\n",
    "        ('classification', rfc)\n",
    "    ])\n",
    "\n",
    "grid = GridSearchCV(pipe, param_dict, scoring='roc_auc', n_jobs=-1, verbose=1, cv=5)\n",
    "grid.fit(X, y)"
   ]
  },
  {
   "cell_type": "code",
   "execution_count": 61,
   "id": "b58e3ffc",
   "metadata": {},
   "outputs": [
    {
     "name": "stdout",
     "output_type": "stream",
     "text": [
      "Accuracy:  0.9192917867294571\n"
     ]
    }
   ],
   "source": [
    "yhat = grid.predict(X)\n",
    "print(\"Accuracy: \",accuracy_score(y, yhat))"
   ]
  },
  {
   "cell_type": "code",
   "execution_count": 62,
   "id": "6e8b8a47",
   "metadata": {},
   "outputs": [
    {
     "data": {
      "text/html": [
       "<div>\n",
       "<style scoped>\n",
       "    .dataframe tbody tr th:only-of-type {\n",
       "        vertical-align: middle;\n",
       "    }\n",
       "\n",
       "    .dataframe tbody tr th {\n",
       "        vertical-align: top;\n",
       "    }\n",
       "\n",
       "    .dataframe thead th {\n",
       "        text-align: right;\n",
       "    }\n",
       "</style>\n",
       "<table border=\"1\" class=\"dataframe\">\n",
       "  <thead>\n",
       "    <tr style=\"text-align: right;\">\n",
       "      <th></th>\n",
       "      <th>mean_fit_time</th>\n",
       "      <th>std_fit_time</th>\n",
       "      <th>mean_score_time</th>\n",
       "      <th>std_score_time</th>\n",
       "      <th>param_sampling</th>\n",
       "      <th>params</th>\n",
       "      <th>split0_test_score</th>\n",
       "      <th>split1_test_score</th>\n",
       "      <th>split2_test_score</th>\n",
       "      <th>split3_test_score</th>\n",
       "      <th>split4_test_score</th>\n",
       "      <th>mean_test_score</th>\n",
       "      <th>std_test_score</th>\n",
       "      <th>rank_test_score</th>\n",
       "    </tr>\n",
       "  </thead>\n",
       "  <tbody>\n",
       "    <tr>\n",
       "      <th>0</th>\n",
       "      <td>89.785076</td>\n",
       "      <td>12.850950</td>\n",
       "      <td>0.656311</td>\n",
       "      <td>0.328413</td>\n",
       "      <td>SMOTE()</td>\n",
       "      <td>{'sampling': SMOTE()}</td>\n",
       "      <td>NaN</td>\n",
       "      <td>0.586096</td>\n",
       "      <td>0.586599</td>\n",
       "      <td>0.579922</td>\n",
       "      <td>0.594631</td>\n",
       "      <td>NaN</td>\n",
       "      <td>NaN</td>\n",
       "      <td>3</td>\n",
       "    </tr>\n",
       "    <tr>\n",
       "      <th>1</th>\n",
       "      <td>4.271603</td>\n",
       "      <td>0.169370</td>\n",
       "      <td>0.899639</td>\n",
       "      <td>0.069660</td>\n",
       "      <td>RandomUnderSampler()</td>\n",
       "      <td>{'sampling': RandomUnderSampler()}</td>\n",
       "      <td>0.640945</td>\n",
       "      <td>0.629732</td>\n",
       "      <td>0.631119</td>\n",
       "      <td>0.631400</td>\n",
       "      <td>0.633666</td>\n",
       "      <td>0.633373</td>\n",
       "      <td>0.003991</td>\n",
       "      <td>2</td>\n",
       "    </tr>\n",
       "    <tr>\n",
       "      <th>2</th>\n",
       "      <td>33.200475</td>\n",
       "      <td>8.518376</td>\n",
       "      <td>0.801316</td>\n",
       "      <td>0.140915</td>\n",
       "      <td>passthrough</td>\n",
       "      <td>{'sampling': 'passthrough'}</td>\n",
       "      <td>0.645796</td>\n",
       "      <td>0.632068</td>\n",
       "      <td>0.628966</td>\n",
       "      <td>0.633096</td>\n",
       "      <td>0.636660</td>\n",
       "      <td>0.635317</td>\n",
       "      <td>0.005787</td>\n",
       "      <td>1</td>\n",
       "    </tr>\n",
       "  </tbody>\n",
       "</table>\n",
       "</div>"
      ],
      "text/plain": [
       "   mean_fit_time  std_fit_time  mean_score_time  std_score_time        param_sampling                              params  split0_test_score  split1_test_score  split2_test_score  split3_test_score  split4_test_score  mean_test_score  std_test_score  rank_test_score\n",
       "0      89.785076     12.850950         0.656311        0.328413               SMOTE()               {'sampling': SMOTE()}                NaN           0.586096           0.586599           0.579922           0.594631              NaN             NaN                3\n",
       "1       4.271603      0.169370         0.899639        0.069660  RandomUnderSampler()  {'sampling': RandomUnderSampler()}           0.640945           0.629732           0.631119           0.631400           0.633666         0.633373        0.003991                2\n",
       "2      33.200475      8.518376         0.801316        0.140915           passthrough         {'sampling': 'passthrough'}           0.645796           0.632068           0.628966           0.633096           0.636660         0.635317        0.005787                1"
      ]
     },
     "execution_count": 62,
     "metadata": {},
     "output_type": "execute_result"
    }
   ],
   "source": [
    "scores=pd.DataFrame(grid.cv_results_)\n",
    "scores"
   ]
  },
  {
   "cell_type": "code",
   "execution_count": 63,
   "id": "027a8ad5",
   "metadata": {},
   "outputs": [
    {
     "data": {
      "text/plain": [
       "0.00032226877215597806"
      ]
     },
     "execution_count": 63,
     "metadata": {},
     "output_type": "execute_result"
    }
   ],
   "source": [
    "f1_sc=f1_score(y,yhat)\n",
    "f1_sc"
   ]
  },
  {
   "cell_type": "markdown",
   "id": "db18d091",
   "metadata": {},
   "source": [
    "### La randomforest gère sans scaler, à voir avec logistic classifier (viser 0.7-0.8)"
   ]
  },
  {
   "cell_type": "markdown",
   "id": "86e969b3",
   "metadata": {},
   "source": [
    "### Essayer avec d'autres scalers robust, standard, quantile, etc Normalizer, MinMax"
   ]
  },
  {
   "cell_type": "markdown",
   "id": "13fc4b91",
   "metadata": {},
   "source": [
    "### Logistic classifier"
   ]
  },
  {
   "cell_type": "code",
   "execution_count": 64,
   "id": "f1fd4976",
   "metadata": {},
   "outputs": [],
   "source": [
    "from sklearn.linear_model import LogisticRegression\n",
    "lrc=LogisticRegression()"
   ]
  },
  {
   "cell_type": "code",
   "execution_count": 65,
   "id": "fbd998b5",
   "metadata": {},
   "outputs": [],
   "source": [
    "from sklearn.preprocessing import RobustScaler\n",
    "from sklearn.preprocessing import MinMaxScaler\n",
    "from sklearn.preprocessing import StandardScaler"
   ]
  },
  {
   "cell_type": "code",
   "execution_count": 66,
   "id": "794936b7",
   "metadata": {},
   "outputs": [],
   "source": [
    "X=df[select_features]\n",
    "y=df['TARGET']"
   ]
  },
  {
   "cell_type": "code",
   "execution_count": 67,
   "id": "2412b296",
   "metadata": {},
   "outputs": [],
   "source": [
    "param_dict={'sampling' : [SMOTE(),RandomUnderSampler(), \"passthrough\"], 'scaler' : [RobustScaler(),MinMaxScaler(),\n",
    "                                                                                   StandardScaler(),\n",
    "                                                                                   \"passthrough\"]}"
   ]
  },
  {
   "cell_type": "code",
   "execution_count": 68,
   "id": "fa2c4e02",
   "metadata": {},
   "outputs": [
    {
     "name": "stdout",
     "output_type": "stream",
     "text": [
      "Fitting 5 folds for each of 12 candidates, totalling 60 fits\n"
     ]
    },
    {
     "data": {
      "text/plain": [
       "GridSearchCV(cv=5,\n",
       "             estimator=Pipeline(steps=[('sampling', SMOTE()),\n",
       "                                       ('scaler', StandardScaler()),\n",
       "                                       ('classification',\n",
       "                                        LogisticRegression())]),\n",
       "             n_jobs=-1,\n",
       "             param_grid={'sampling': [SMOTE(), RandomUnderSampler(),\n",
       "                                      'passthrough'],\n",
       "                         'scaler': [RobustScaler(), MinMaxScaler(),\n",
       "                                    StandardScaler(), 'passthrough']},\n",
       "             scoring='roc_auc', verbose=1)"
      ]
     },
     "execution_count": 68,
     "metadata": {},
     "output_type": "execute_result"
    }
   ],
   "source": [
    "pipe = Pipeline([\n",
    "        ('sampling', SMOTE()), ('scaler',StandardScaler()), \n",
    "        ('classification', lrc)\n",
    "    ])\n",
    "\n",
    "grid = GridSearchCV(pipe, param_dict, scoring='roc_auc', n_jobs=-1, verbose=1, cv=5)\n",
    "grid.fit(X, y)"
   ]
  },
  {
   "cell_type": "code",
   "execution_count": 69,
   "id": "d728af8b",
   "metadata": {},
   "outputs": [
    {
     "data": {
      "text/html": [
       "<div>\n",
       "<style scoped>\n",
       "    .dataframe tbody tr th:only-of-type {\n",
       "        vertical-align: middle;\n",
       "    }\n",
       "\n",
       "    .dataframe tbody tr th {\n",
       "        vertical-align: top;\n",
       "    }\n",
       "\n",
       "    .dataframe thead th {\n",
       "        text-align: right;\n",
       "    }\n",
       "</style>\n",
       "<table border=\"1\" class=\"dataframe\">\n",
       "  <thead>\n",
       "    <tr style=\"text-align: right;\">\n",
       "      <th></th>\n",
       "      <th>mean_fit_time</th>\n",
       "      <th>std_fit_time</th>\n",
       "      <th>mean_score_time</th>\n",
       "      <th>std_score_time</th>\n",
       "      <th>param_sampling</th>\n",
       "      <th>param_scaler</th>\n",
       "      <th>params</th>\n",
       "      <th>split0_test_score</th>\n",
       "      <th>split1_test_score</th>\n",
       "      <th>split2_test_score</th>\n",
       "      <th>split3_test_score</th>\n",
       "      <th>split4_test_score</th>\n",
       "      <th>mean_test_score</th>\n",
       "      <th>std_test_score</th>\n",
       "      <th>rank_test_score</th>\n",
       "    </tr>\n",
       "  </thead>\n",
       "  <tbody>\n",
       "    <tr>\n",
       "      <th>0</th>\n",
       "      <td>2.029972</td>\n",
       "      <td>0.129065</td>\n",
       "      <td>0.040390</td>\n",
       "      <td>0.010789</td>\n",
       "      <td>SMOTE()</td>\n",
       "      <td>RobustScaler()</td>\n",
       "      <td>{'sampling': SMOTE(), 'scaler': RobustScaler()}</td>\n",
       "      <td>0.507548</td>\n",
       "      <td>0.517933</td>\n",
       "      <td>0.511320</td>\n",
       "      <td>0.509644</td>\n",
       "      <td>0.518871</td>\n",
       "      <td>0.513063</td>\n",
       "      <td>0.004530</td>\n",
       "      <td>10</td>\n",
       "    </tr>\n",
       "    <tr>\n",
       "      <th>1</th>\n",
       "      <td>3.202274</td>\n",
       "      <td>0.652043</td>\n",
       "      <td>0.035628</td>\n",
       "      <td>0.002147</td>\n",
       "      <td>SMOTE()</td>\n",
       "      <td>MinMaxScaler()</td>\n",
       "      <td>{'sampling': SMOTE(), 'scaler': MinMaxScaler()}</td>\n",
       "      <td>0.505812</td>\n",
       "      <td>0.516739</td>\n",
       "      <td>0.508679</td>\n",
       "      <td>0.507370</td>\n",
       "      <td>0.516724</td>\n",
       "      <td>0.511065</td>\n",
       "      <td>0.004715</td>\n",
       "      <td>12</td>\n",
       "    </tr>\n",
       "    <tr>\n",
       "      <th>2</th>\n",
       "      <td>1.569249</td>\n",
       "      <td>0.121096</td>\n",
       "      <td>0.035016</td>\n",
       "      <td>0.001143</td>\n",
       "      <td>SMOTE()</td>\n",
       "      <td>StandardScaler()</td>\n",
       "      <td>{'sampling': SMOTE(), 'scaler': StandardScaler()}</td>\n",
       "      <td>0.507463</td>\n",
       "      <td>0.518013</td>\n",
       "      <td>0.510569</td>\n",
       "      <td>0.509944</td>\n",
       "      <td>0.518317</td>\n",
       "      <td>0.512861</td>\n",
       "      <td>0.004455</td>\n",
       "      <td>11</td>\n",
       "    </tr>\n",
       "    <tr>\n",
       "      <th>3</th>\n",
       "      <td>1.564400</td>\n",
       "      <td>0.069846</td>\n",
       "      <td>0.031657</td>\n",
       "      <td>0.001667</td>\n",
       "      <td>SMOTE()</td>\n",
       "      <td>passthrough</td>\n",
       "      <td>{'sampling': SMOTE(), 'scaler': 'passthrough'}</td>\n",
       "      <td>0.586787</td>\n",
       "      <td>0.577460</td>\n",
       "      <td>0.582005</td>\n",
       "      <td>0.576500</td>\n",
       "      <td>0.583294</td>\n",
       "      <td>0.581209</td>\n",
       "      <td>0.003803</td>\n",
       "      <td>7</td>\n",
       "    </tr>\n",
       "    <tr>\n",
       "      <th>4</th>\n",
       "      <td>0.264599</td>\n",
       "      <td>0.025564</td>\n",
       "      <td>0.033955</td>\n",
       "      <td>0.002260</td>\n",
       "      <td>RandomUnderSampler()</td>\n",
       "      <td>RobustScaler()</td>\n",
       "      <td>{'sampling': RandomUnderSampler(), 'scaler': R...</td>\n",
       "      <td>0.608370</td>\n",
       "      <td>0.593206</td>\n",
       "      <td>0.597259</td>\n",
       "      <td>0.597729</td>\n",
       "      <td>0.601446</td>\n",
       "      <td>0.599602</td>\n",
       "      <td>0.005103</td>\n",
       "      <td>4</td>\n",
       "    </tr>\n",
       "    <tr>\n",
       "      <th>5</th>\n",
       "      <td>0.290882</td>\n",
       "      <td>0.032695</td>\n",
       "      <td>0.034485</td>\n",
       "      <td>0.001843</td>\n",
       "      <td>RandomUnderSampler()</td>\n",
       "      <td>MinMaxScaler()</td>\n",
       "      <td>{'sampling': RandomUnderSampler(), 'scaler': M...</td>\n",
       "      <td>0.605223</td>\n",
       "      <td>0.589332</td>\n",
       "      <td>0.593125</td>\n",
       "      <td>0.596135</td>\n",
       "      <td>0.598842</td>\n",
       "      <td>0.596531</td>\n",
       "      <td>0.005375</td>\n",
       "      <td>6</td>\n",
       "    </tr>\n",
       "    <tr>\n",
       "      <th>6</th>\n",
       "      <td>0.225703</td>\n",
       "      <td>0.007934</td>\n",
       "      <td>0.033680</td>\n",
       "      <td>0.002181</td>\n",
       "      <td>RandomUnderSampler()</td>\n",
       "      <td>StandardScaler()</td>\n",
       "      <td>{'sampling': RandomUnderSampler(), 'scaler': S...</td>\n",
       "      <td>0.608012</td>\n",
       "      <td>0.593381</td>\n",
       "      <td>0.597882</td>\n",
       "      <td>0.598366</td>\n",
       "      <td>0.601845</td>\n",
       "      <td>0.599897</td>\n",
       "      <td>0.004868</td>\n",
       "      <td>3</td>\n",
       "    </tr>\n",
       "    <tr>\n",
       "      <th>7</th>\n",
       "      <td>0.235161</td>\n",
       "      <td>0.003779</td>\n",
       "      <td>0.032797</td>\n",
       "      <td>0.001280</td>\n",
       "      <td>RandomUnderSampler()</td>\n",
       "      <td>passthrough</td>\n",
       "      <td>{'sampling': RandomUnderSampler(), 'scaler': '...</td>\n",
       "      <td>0.586626</td>\n",
       "      <td>0.576943</td>\n",
       "      <td>0.581318</td>\n",
       "      <td>0.576247</td>\n",
       "      <td>0.582801</td>\n",
       "      <td>0.580787</td>\n",
       "      <td>0.003842</td>\n",
       "      <td>8</td>\n",
       "    </tr>\n",
       "    <tr>\n",
       "      <th>8</th>\n",
       "      <td>0.943821</td>\n",
       "      <td>0.138295</td>\n",
       "      <td>0.035050</td>\n",
       "      <td>0.001783</td>\n",
       "      <td>passthrough</td>\n",
       "      <td>RobustScaler()</td>\n",
       "      <td>{'sampling': 'passthrough', 'scaler': RobustSc...</td>\n",
       "      <td>0.608045</td>\n",
       "      <td>0.593583</td>\n",
       "      <td>0.597865</td>\n",
       "      <td>0.598682</td>\n",
       "      <td>0.601790</td>\n",
       "      <td>0.599993</td>\n",
       "      <td>0.004804</td>\n",
       "      <td>2</td>\n",
       "    </tr>\n",
       "    <tr>\n",
       "      <th>9</th>\n",
       "      <td>1.668019</td>\n",
       "      <td>0.201151</td>\n",
       "      <td>0.035714</td>\n",
       "      <td>0.001722</td>\n",
       "      <td>passthrough</td>\n",
       "      <td>MinMaxScaler()</td>\n",
       "      <td>{'sampling': 'passthrough', 'scaler': MinMaxSc...</td>\n",
       "      <td>0.607481</td>\n",
       "      <td>0.591505</td>\n",
       "      <td>0.595756</td>\n",
       "      <td>0.596607</td>\n",
       "      <td>0.600354</td>\n",
       "      <td>0.598341</td>\n",
       "      <td>0.005367</td>\n",
       "      <td>5</td>\n",
       "    </tr>\n",
       "    <tr>\n",
       "      <th>10</th>\n",
       "      <td>0.639153</td>\n",
       "      <td>0.039404</td>\n",
       "      <td>0.034546</td>\n",
       "      <td>0.000916</td>\n",
       "      <td>passthrough</td>\n",
       "      <td>StandardScaler()</td>\n",
       "      <td>{'sampling': 'passthrough', 'scaler': Standard...</td>\n",
       "      <td>0.608040</td>\n",
       "      <td>0.593588</td>\n",
       "      <td>0.597875</td>\n",
       "      <td>0.598693</td>\n",
       "      <td>0.601792</td>\n",
       "      <td>0.599998</td>\n",
       "      <td>0.004800</td>\n",
       "      <td>1</td>\n",
       "    </tr>\n",
       "    <tr>\n",
       "      <th>11</th>\n",
       "      <td>0.822914</td>\n",
       "      <td>0.097327</td>\n",
       "      <td>0.026270</td>\n",
       "      <td>0.005298</td>\n",
       "      <td>passthrough</td>\n",
       "      <td>passthrough</td>\n",
       "      <td>{'sampling': 'passthrough', 'scaler': 'passthr...</td>\n",
       "      <td>0.527887</td>\n",
       "      <td>0.524495</td>\n",
       "      <td>0.526007</td>\n",
       "      <td>0.526856</td>\n",
       "      <td>0.534562</td>\n",
       "      <td>0.527961</td>\n",
       "      <td>0.003482</td>\n",
       "      <td>9</td>\n",
       "    </tr>\n",
       "  </tbody>\n",
       "</table>\n",
       "</div>"
      ],
      "text/plain": [
       "    mean_fit_time  std_fit_time  mean_score_time  std_score_time        param_sampling      param_scaler                                             params  split0_test_score  split1_test_score  split2_test_score  split3_test_score  split4_test_score  mean_test_score  std_test_score  rank_test_score\n",
       "0        2.029972      0.129065         0.040390        0.010789               SMOTE()    RobustScaler()    {'sampling': SMOTE(), 'scaler': RobustScaler()}           0.507548           0.517933           0.511320           0.509644           0.518871         0.513063        0.004530               10\n",
       "1        3.202274      0.652043         0.035628        0.002147               SMOTE()    MinMaxScaler()    {'sampling': SMOTE(), 'scaler': MinMaxScaler()}           0.505812           0.516739           0.508679           0.507370           0.516724         0.511065        0.004715               12\n",
       "2        1.569249      0.121096         0.035016        0.001143               SMOTE()  StandardScaler()  {'sampling': SMOTE(), 'scaler': StandardScaler()}           0.507463           0.518013           0.510569           0.509944           0.518317         0.512861        0.004455               11\n",
       "3        1.564400      0.069846         0.031657        0.001667               SMOTE()       passthrough     {'sampling': SMOTE(), 'scaler': 'passthrough'}           0.586787           0.577460           0.582005           0.576500           0.583294         0.581209        0.003803                7\n",
       "4        0.264599      0.025564         0.033955        0.002260  RandomUnderSampler()    RobustScaler()  {'sampling': RandomUnderSampler(), 'scaler': R...           0.608370           0.593206           0.597259           0.597729           0.601446         0.599602        0.005103                4\n",
       "5        0.290882      0.032695         0.034485        0.001843  RandomUnderSampler()    MinMaxScaler()  {'sampling': RandomUnderSampler(), 'scaler': M...           0.605223           0.589332           0.593125           0.596135           0.598842         0.596531        0.005375                6\n",
       "6        0.225703      0.007934         0.033680        0.002181  RandomUnderSampler()  StandardScaler()  {'sampling': RandomUnderSampler(), 'scaler': S...           0.608012           0.593381           0.597882           0.598366           0.601845         0.599897        0.004868                3\n",
       "7        0.235161      0.003779         0.032797        0.001280  RandomUnderSampler()       passthrough  {'sampling': RandomUnderSampler(), 'scaler': '...           0.586626           0.576943           0.581318           0.576247           0.582801         0.580787        0.003842                8\n",
       "8        0.943821      0.138295         0.035050        0.001783           passthrough    RobustScaler()  {'sampling': 'passthrough', 'scaler': RobustSc...           0.608045           0.593583           0.597865           0.598682           0.601790         0.599993        0.004804                2\n",
       "9        1.668019      0.201151         0.035714        0.001722           passthrough    MinMaxScaler()  {'sampling': 'passthrough', 'scaler': MinMaxSc...           0.607481           0.591505           0.595756           0.596607           0.600354         0.598341        0.005367                5\n",
       "10       0.639153      0.039404         0.034546        0.000916           passthrough  StandardScaler()  {'sampling': 'passthrough', 'scaler': Standard...           0.608040           0.593588           0.597875           0.598693           0.601792         0.599998        0.004800                1\n",
       "11       0.822914      0.097327         0.026270        0.005298           passthrough       passthrough  {'sampling': 'passthrough', 'scaler': 'passthr...           0.527887           0.524495           0.526007           0.526856           0.534562         0.527961        0.003482                9"
      ]
     },
     "execution_count": 69,
     "metadata": {},
     "output_type": "execute_result"
    }
   ],
   "source": [
    "scores=pd.DataFrame(grid.cv_results_)\n",
    "scores"
   ]
  },
  {
   "cell_type": "code",
   "execution_count": 70,
   "id": "fce7f0e1",
   "metadata": {},
   "outputs": [
    {
     "data": {
      "text/plain": [
       "8.056719303899451e-05"
      ]
     },
     "execution_count": 70,
     "metadata": {},
     "output_type": "execute_result"
    }
   ],
   "source": [
    "yhat = grid.predict(X)\n",
    "f1_sc=f1_score(y,yhat)\n",
    "f1_sc"
   ]
  },
  {
   "cell_type": "markdown",
   "id": "fc9eaad4",
   "metadata": {},
   "source": [
    "## 1.6 Equilibrage des classes à la main."
   ]
  },
  {
   "cell_type": "code",
   "execution_count": 71,
   "id": "8783a6a6",
   "metadata": {},
   "outputs": [
    {
     "data": {
      "text/plain": [
       "24820"
      ]
     },
     "execution_count": 71,
     "metadata": {},
     "output_type": "execute_result"
    }
   ],
   "source": [
    "df_1=df[df['TARGET']==1]\n",
    "len(df_1)"
   ]
  },
  {
   "cell_type": "code",
   "execution_count": 72,
   "id": "a1f2eb0f",
   "metadata": {},
   "outputs": [],
   "source": [
    "df_0_tot=df[df['TARGET']==0]\n",
    "df_0=df_0_tot[0:24820]"
   ]
  },
  {
   "cell_type": "code",
   "execution_count": 73,
   "id": "cc0a2285",
   "metadata": {},
   "outputs": [
    {
     "data": {
      "text/plain": [
       "24820"
      ]
     },
     "execution_count": 73,
     "metadata": {},
     "output_type": "execute_result"
    }
   ],
   "source": [
    "len(df_0)"
   ]
  },
  {
   "cell_type": "code",
   "execution_count": 74,
   "id": "cc6af560",
   "metadata": {},
   "outputs": [
    {
     "data": {
      "text/html": [
       "<div>\n",
       "<style scoped>\n",
       "    .dataframe tbody tr th:only-of-type {\n",
       "        vertical-align: middle;\n",
       "    }\n",
       "\n",
       "    .dataframe tbody tr th {\n",
       "        vertical-align: top;\n",
       "    }\n",
       "\n",
       "    .dataframe thead th {\n",
       "        text-align: right;\n",
       "    }\n",
       "</style>\n",
       "<table border=\"1\" class=\"dataframe\">\n",
       "  <thead>\n",
       "    <tr style=\"text-align: right;\">\n",
       "      <th></th>\n",
       "      <th>TARGET</th>\n",
       "      <th>CNT_CHILDREN</th>\n",
       "      <th>AMT_INCOME_TOTAL</th>\n",
       "      <th>AMT_CREDIT</th>\n",
       "      <th>AMT_ANNUITY</th>\n",
       "      <th>AMT_GOODS_PRICE</th>\n",
       "      <th>REGION_RATING_CLIENT</th>\n",
       "      <th>REGION_RATING_CLIENT_W_CITY</th>\n",
       "    </tr>\n",
       "  </thead>\n",
       "  <tbody>\n",
       "    <tr>\n",
       "      <th>0</th>\n",
       "      <td>1</td>\n",
       "      <td>0</td>\n",
       "      <td>202500.0</td>\n",
       "      <td>406597.5</td>\n",
       "      <td>24700.5</td>\n",
       "      <td>351000.0</td>\n",
       "      <td>2</td>\n",
       "      <td>2</td>\n",
       "    </tr>\n",
       "    <tr>\n",
       "      <th>26</th>\n",
       "      <td>1</td>\n",
       "      <td>0</td>\n",
       "      <td>112500.0</td>\n",
       "      <td>979992.0</td>\n",
       "      <td>27076.5</td>\n",
       "      <td>702000.0</td>\n",
       "      <td>3</td>\n",
       "      <td>2</td>\n",
       "    </tr>\n",
       "    <tr>\n",
       "      <th>40</th>\n",
       "      <td>1</td>\n",
       "      <td>0</td>\n",
       "      <td>202500.0</td>\n",
       "      <td>1193580.0</td>\n",
       "      <td>35028.0</td>\n",
       "      <td>855000.0</td>\n",
       "      <td>2</td>\n",
       "      <td>2</td>\n",
       "    </tr>\n",
       "    <tr>\n",
       "      <th>42</th>\n",
       "      <td>1</td>\n",
       "      <td>0</td>\n",
       "      <td>135000.0</td>\n",
       "      <td>288873.0</td>\n",
       "      <td>16258.5</td>\n",
       "      <td>238500.0</td>\n",
       "      <td>3</td>\n",
       "      <td>3</td>\n",
       "    </tr>\n",
       "    <tr>\n",
       "      <th>81</th>\n",
       "      <td>1</td>\n",
       "      <td>0</td>\n",
       "      <td>81000.0</td>\n",
       "      <td>252000.0</td>\n",
       "      <td>14593.5</td>\n",
       "      <td>252000.0</td>\n",
       "      <td>2</td>\n",
       "      <td>2</td>\n",
       "    </tr>\n",
       "    <tr>\n",
       "      <th>...</th>\n",
       "      <td>...</td>\n",
       "      <td>...</td>\n",
       "      <td>...</td>\n",
       "      <td>...</td>\n",
       "      <td>...</td>\n",
       "      <td>...</td>\n",
       "      <td>...</td>\n",
       "      <td>...</td>\n",
       "    </tr>\n",
       "    <tr>\n",
       "      <th>26966</th>\n",
       "      <td>0</td>\n",
       "      <td>2</td>\n",
       "      <td>270000.0</td>\n",
       "      <td>550080.0</td>\n",
       "      <td>14638.5</td>\n",
       "      <td>360000.0</td>\n",
       "      <td>3</td>\n",
       "      <td>3</td>\n",
       "    </tr>\n",
       "    <tr>\n",
       "      <th>26967</th>\n",
       "      <td>0</td>\n",
       "      <td>1</td>\n",
       "      <td>67500.0</td>\n",
       "      <td>263340.0</td>\n",
       "      <td>7371.0</td>\n",
       "      <td>198000.0</td>\n",
       "      <td>2</td>\n",
       "      <td>2</td>\n",
       "    </tr>\n",
       "    <tr>\n",
       "      <th>26968</th>\n",
       "      <td>0</td>\n",
       "      <td>0</td>\n",
       "      <td>112500.0</td>\n",
       "      <td>630000.0</td>\n",
       "      <td>31500.0</td>\n",
       "      <td>630000.0</td>\n",
       "      <td>1</td>\n",
       "      <td>1</td>\n",
       "    </tr>\n",
       "    <tr>\n",
       "      <th>26970</th>\n",
       "      <td>0</td>\n",
       "      <td>1</td>\n",
       "      <td>292500.0</td>\n",
       "      <td>948816.0</td>\n",
       "      <td>30735.0</td>\n",
       "      <td>792000.0</td>\n",
       "      <td>2</td>\n",
       "      <td>2</td>\n",
       "    </tr>\n",
       "    <tr>\n",
       "      <th>26971</th>\n",
       "      <td>0</td>\n",
       "      <td>1</td>\n",
       "      <td>157500.0</td>\n",
       "      <td>135000.0</td>\n",
       "      <td>6750.0</td>\n",
       "      <td>135000.0</td>\n",
       "      <td>2</td>\n",
       "      <td>2</td>\n",
       "    </tr>\n",
       "  </tbody>\n",
       "</table>\n",
       "<p>49640 rows × 8 columns</p>\n",
       "</div>"
      ],
      "text/plain": [
       "       TARGET  CNT_CHILDREN  AMT_INCOME_TOTAL  AMT_CREDIT  AMT_ANNUITY  AMT_GOODS_PRICE  REGION_RATING_CLIENT  REGION_RATING_CLIENT_W_CITY\n",
       "0           1             0          202500.0    406597.5      24700.5         351000.0                     2                            2\n",
       "26          1             0          112500.0    979992.0      27076.5         702000.0                     3                            2\n",
       "40          1             0          202500.0   1193580.0      35028.0         855000.0                     2                            2\n",
       "42          1             0          135000.0    288873.0      16258.5         238500.0                     3                            3\n",
       "81          1             0           81000.0    252000.0      14593.5         252000.0                     2                            2\n",
       "...       ...           ...               ...         ...          ...              ...                   ...                          ...\n",
       "26966       0             2          270000.0    550080.0      14638.5         360000.0                     3                            3\n",
       "26967       0             1           67500.0    263340.0       7371.0         198000.0                     2                            2\n",
       "26968       0             0          112500.0    630000.0      31500.0         630000.0                     1                            1\n",
       "26970       0             1          292500.0    948816.0      30735.0         792000.0                     2                            2\n",
       "26971       0             1          157500.0    135000.0       6750.0         135000.0                     2                            2\n",
       "\n",
       "[49640 rows x 8 columns]"
      ]
     },
     "execution_count": 74,
     "metadata": {},
     "output_type": "execute_result"
    }
   ],
   "source": [
    "df_eq=pd.concat([df_1, df_0])\n",
    "df_eq"
   ]
  },
  {
   "cell_type": "markdown",
   "id": "6f79c5e6",
   "metadata": {},
   "source": [
    "### Random Forest Classifier"
   ]
  },
  {
   "cell_type": "code",
   "execution_count": 75,
   "id": "aeb3b8b4",
   "metadata": {},
   "outputs": [],
   "source": [
    "grid=GridSearchCV(rfc,{},scoring='roc_auc', n_jobs=-1, verbose=1, cv=5)"
   ]
  },
  {
   "cell_type": "code",
   "execution_count": 76,
   "id": "2e5af0e8",
   "metadata": {},
   "outputs": [],
   "source": [
    "y_eq=df_eq['TARGET']"
   ]
  },
  {
   "cell_type": "code",
   "execution_count": 77,
   "id": "71265458",
   "metadata": {},
   "outputs": [],
   "source": [
    "X_eq=df_eq[select_features]"
   ]
  },
  {
   "cell_type": "code",
   "execution_count": 78,
   "id": "c8a4af44",
   "metadata": {},
   "outputs": [
    {
     "name": "stdout",
     "output_type": "stream",
     "text": [
      "Fitting 5 folds for each of 1 candidates, totalling 5 fits\n"
     ]
    },
    {
     "data": {
      "text/plain": [
       "GridSearchCV(cv=5,\n",
       "             estimator=RandomForestClassifier(max_depth=10, random_state=0),\n",
       "             n_jobs=-1, param_grid={}, scoring='roc_auc', verbose=1)"
      ]
     },
     "execution_count": 78,
     "metadata": {},
     "output_type": "execute_result"
    }
   ],
   "source": [
    "grid.fit(X_eq, y_eq)"
   ]
  },
  {
   "cell_type": "code",
   "execution_count": 79,
   "id": "9f599d77",
   "metadata": {},
   "outputs": [
    {
     "data": {
      "text/html": [
       "<div>\n",
       "<style scoped>\n",
       "    .dataframe tbody tr th:only-of-type {\n",
       "        vertical-align: middle;\n",
       "    }\n",
       "\n",
       "    .dataframe tbody tr th {\n",
       "        vertical-align: top;\n",
       "    }\n",
       "\n",
       "    .dataframe thead th {\n",
       "        text-align: right;\n",
       "    }\n",
       "</style>\n",
       "<table border=\"1\" class=\"dataframe\">\n",
       "  <thead>\n",
       "    <tr style=\"text-align: right;\">\n",
       "      <th></th>\n",
       "      <th>mean_fit_time</th>\n",
       "      <th>std_fit_time</th>\n",
       "      <th>mean_score_time</th>\n",
       "      <th>std_score_time</th>\n",
       "      <th>params</th>\n",
       "      <th>split0_test_score</th>\n",
       "      <th>split1_test_score</th>\n",
       "      <th>split2_test_score</th>\n",
       "      <th>split3_test_score</th>\n",
       "      <th>split4_test_score</th>\n",
       "      <th>mean_test_score</th>\n",
       "      <th>std_test_score</th>\n",
       "      <th>rank_test_score</th>\n",
       "    </tr>\n",
       "  </thead>\n",
       "  <tbody>\n",
       "    <tr>\n",
       "      <th>0</th>\n",
       "      <td>3.937799</td>\n",
       "      <td>0.724377</td>\n",
       "      <td>0.134238</td>\n",
       "      <td>0.019341</td>\n",
       "      <td>{}</td>\n",
       "      <td>0.646418</td>\n",
       "      <td>0.643838</td>\n",
       "      <td>0.626518</td>\n",
       "      <td>0.633929</td>\n",
       "      <td>0.641844</td>\n",
       "      <td>0.638509</td>\n",
       "      <td>0.007305</td>\n",
       "      <td>1</td>\n",
       "    </tr>\n",
       "  </tbody>\n",
       "</table>\n",
       "</div>"
      ],
      "text/plain": [
       "   mean_fit_time  std_fit_time  mean_score_time  std_score_time params  split0_test_score  split1_test_score  split2_test_score  split3_test_score  split4_test_score  mean_test_score  std_test_score  rank_test_score\n",
       "0       3.937799      0.724377         0.134238        0.019341     {}           0.646418           0.643838           0.626518           0.633929           0.641844         0.638509        0.007305                1"
      ]
     },
     "execution_count": 79,
     "metadata": {},
     "output_type": "execute_result"
    }
   ],
   "source": [
    "scores=pd.DataFrame(grid.cv_results_)\n",
    "scores"
   ]
  },
  {
   "cell_type": "code",
   "execution_count": 81,
   "id": "9e6dd356",
   "metadata": {},
   "outputs": [
    {
     "data": {
      "text/plain": [
       "0.6227805341496886"
      ]
     },
     "execution_count": 81,
     "metadata": {},
     "output_type": "execute_result"
    }
   ],
   "source": [
    "yhat = grid.predict(X_eq)\n",
    "f1_sc=f1_score(y_eq,yhat)\n",
    "f1_sc"
   ]
  },
  {
   "cell_type": "markdown",
   "id": "0dfa094a",
   "metadata": {},
   "source": [
    "### Logistic classifier"
   ]
  },
  {
   "cell_type": "code",
   "execution_count": 82,
   "id": "252a253c",
   "metadata": {},
   "outputs": [
    {
     "name": "stdout",
     "output_type": "stream",
     "text": [
      "Fitting 5 folds for each of 12 candidates, totalling 60 fits\n"
     ]
    },
    {
     "data": {
      "text/plain": [
       "GridSearchCV(cv=5,\n",
       "             estimator=Pipeline(steps=[('sampling', SMOTE()),\n",
       "                                       ('scaler', StandardScaler()),\n",
       "                                       ('classification',\n",
       "                                        LogisticRegression())]),\n",
       "             n_jobs=-1,\n",
       "             param_grid={'sampling': [SMOTE(), RandomUnderSampler(),\n",
       "                                      'passthrough'],\n",
       "                         'scaler': [RobustScaler(), MinMaxScaler(),\n",
       "                                    StandardScaler(), 'passthrough']},\n",
       "             scoring='roc_auc', verbose=1)"
      ]
     },
     "execution_count": 82,
     "metadata": {},
     "output_type": "execute_result"
    }
   ],
   "source": [
    "pipe = Pipeline([\n",
    "        ('sampling', SMOTE()), ('scaler',StandardScaler()), \n",
    "        ('classification', lrc)\n",
    "    ])\n",
    "\n",
    "grid = GridSearchCV(pipe, param_dict, scoring='roc_auc', n_jobs=-1, verbose=1, cv=5)\n",
    "grid.fit(X_eq, y_eq)"
   ]
  },
  {
   "cell_type": "markdown",
   "id": "82aa6ac6",
   "metadata": {},
   "source": [
    "### scores.sort_values(rank_test_score)"
   ]
  },
  {
   "cell_type": "code",
   "execution_count": 83,
   "id": "deac1970",
   "metadata": {},
   "outputs": [
    {
     "data": {
      "text/html": [
       "<div>\n",
       "<style scoped>\n",
       "    .dataframe tbody tr th:only-of-type {\n",
       "        vertical-align: middle;\n",
       "    }\n",
       "\n",
       "    .dataframe tbody tr th {\n",
       "        vertical-align: top;\n",
       "    }\n",
       "\n",
       "    .dataframe thead th {\n",
       "        text-align: right;\n",
       "    }\n",
       "</style>\n",
       "<table border=\"1\" class=\"dataframe\">\n",
       "  <thead>\n",
       "    <tr style=\"text-align: right;\">\n",
       "      <th></th>\n",
       "      <th>mean_fit_time</th>\n",
       "      <th>std_fit_time</th>\n",
       "      <th>mean_score_time</th>\n",
       "      <th>std_score_time</th>\n",
       "      <th>param_sampling</th>\n",
       "      <th>param_scaler</th>\n",
       "      <th>params</th>\n",
       "      <th>split0_test_score</th>\n",
       "      <th>split1_test_score</th>\n",
       "      <th>split2_test_score</th>\n",
       "      <th>split3_test_score</th>\n",
       "      <th>split4_test_score</th>\n",
       "      <th>mean_test_score</th>\n",
       "      <th>std_test_score</th>\n",
       "      <th>rank_test_score</th>\n",
       "    </tr>\n",
       "  </thead>\n",
       "  <tbody>\n",
       "    <tr>\n",
       "      <th>0</th>\n",
       "      <td>0.222941</td>\n",
       "      <td>0.046706</td>\n",
       "      <td>0.008763</td>\n",
       "      <td>0.000418</td>\n",
       "      <td>SMOTE()</td>\n",
       "      <td>RobustScaler()</td>\n",
       "      <td>{'sampling': SMOTE(), 'scaler': RobustScaler()}</td>\n",
       "      <td>0.608507</td>\n",
       "      <td>0.599615</td>\n",
       "      <td>0.592734</td>\n",
       "      <td>0.601516</td>\n",
       "      <td>0.605644</td>\n",
       "      <td>0.601603</td>\n",
       "      <td>0.005415</td>\n",
       "      <td>4</td>\n",
       "    </tr>\n",
       "    <tr>\n",
       "      <th>1</th>\n",
       "      <td>0.159298</td>\n",
       "      <td>0.023562</td>\n",
       "      <td>0.008476</td>\n",
       "      <td>0.000347</td>\n",
       "      <td>SMOTE()</td>\n",
       "      <td>MinMaxScaler()</td>\n",
       "      <td>{'sampling': SMOTE(), 'scaler': MinMaxScaler()}</td>\n",
       "      <td>0.606037</td>\n",
       "      <td>0.596971</td>\n",
       "      <td>0.590142</td>\n",
       "      <td>0.597661</td>\n",
       "      <td>0.603006</td>\n",
       "      <td>0.598764</td>\n",
       "      <td>0.005471</td>\n",
       "      <td>7</td>\n",
       "    </tr>\n",
       "    <tr>\n",
       "      <th>2</th>\n",
       "      <td>0.127089</td>\n",
       "      <td>0.013507</td>\n",
       "      <td>0.008639</td>\n",
       "      <td>0.000521</td>\n",
       "      <td>SMOTE()</td>\n",
       "      <td>StandardScaler()</td>\n",
       "      <td>{'sampling': SMOTE(), 'scaler': StandardScaler()}</td>\n",
       "      <td>0.608500</td>\n",
       "      <td>0.599609</td>\n",
       "      <td>0.592749</td>\n",
       "      <td>0.601550</td>\n",
       "      <td>0.605672</td>\n",
       "      <td>0.601616</td>\n",
       "      <td>0.005413</td>\n",
       "      <td>1</td>\n",
       "    </tr>\n",
       "    <tr>\n",
       "      <th>3</th>\n",
       "      <td>0.127268</td>\n",
       "      <td>0.013268</td>\n",
       "      <td>0.007700</td>\n",
       "      <td>0.000274</td>\n",
       "      <td>SMOTE()</td>\n",
       "      <td>passthrough</td>\n",
       "      <td>{'sampling': SMOTE(), 'scaler': 'passthrough'}</td>\n",
       "      <td>0.586521</td>\n",
       "      <td>0.582109</td>\n",
       "      <td>0.579801</td>\n",
       "      <td>0.575846</td>\n",
       "      <td>0.580139</td>\n",
       "      <td>0.580883</td>\n",
       "      <td>0.003475</td>\n",
       "      <td>10</td>\n",
       "    </tr>\n",
       "    <tr>\n",
       "      <th>4</th>\n",
       "      <td>0.182624</td>\n",
       "      <td>0.031800</td>\n",
       "      <td>0.008153</td>\n",
       "      <td>0.000285</td>\n",
       "      <td>RandomUnderSampler()</td>\n",
       "      <td>RobustScaler()</td>\n",
       "      <td>{'sampling': RandomUnderSampler(), 'scaler': R...</td>\n",
       "      <td>0.608507</td>\n",
       "      <td>0.599615</td>\n",
       "      <td>0.592734</td>\n",
       "      <td>0.601516</td>\n",
       "      <td>0.605644</td>\n",
       "      <td>0.601603</td>\n",
       "      <td>0.005415</td>\n",
       "      <td>4</td>\n",
       "    </tr>\n",
       "    <tr>\n",
       "      <th>5</th>\n",
       "      <td>0.181777</td>\n",
       "      <td>0.014800</td>\n",
       "      <td>0.008284</td>\n",
       "      <td>0.000154</td>\n",
       "      <td>RandomUnderSampler()</td>\n",
       "      <td>MinMaxScaler()</td>\n",
       "      <td>{'sampling': RandomUnderSampler(), 'scaler': M...</td>\n",
       "      <td>0.606037</td>\n",
       "      <td>0.596971</td>\n",
       "      <td>0.590142</td>\n",
       "      <td>0.597661</td>\n",
       "      <td>0.603006</td>\n",
       "      <td>0.598764</td>\n",
       "      <td>0.005471</td>\n",
       "      <td>7</td>\n",
       "    </tr>\n",
       "    <tr>\n",
       "      <th>6</th>\n",
       "      <td>0.132472</td>\n",
       "      <td>0.012574</td>\n",
       "      <td>0.008986</td>\n",
       "      <td>0.000983</td>\n",
       "      <td>RandomUnderSampler()</td>\n",
       "      <td>StandardScaler()</td>\n",
       "      <td>{'sampling': RandomUnderSampler(), 'scaler': S...</td>\n",
       "      <td>0.608500</td>\n",
       "      <td>0.599609</td>\n",
       "      <td>0.592749</td>\n",
       "      <td>0.601550</td>\n",
       "      <td>0.605672</td>\n",
       "      <td>0.601616</td>\n",
       "      <td>0.005413</td>\n",
       "      <td>1</td>\n",
       "    </tr>\n",
       "    <tr>\n",
       "      <th>7</th>\n",
       "      <td>0.136477</td>\n",
       "      <td>0.015314</td>\n",
       "      <td>0.007796</td>\n",
       "      <td>0.000437</td>\n",
       "      <td>RandomUnderSampler()</td>\n",
       "      <td>passthrough</td>\n",
       "      <td>{'sampling': RandomUnderSampler(), 'scaler': '...</td>\n",
       "      <td>0.586521</td>\n",
       "      <td>0.582109</td>\n",
       "      <td>0.579801</td>\n",
       "      <td>0.575846</td>\n",
       "      <td>0.580139</td>\n",
       "      <td>0.580883</td>\n",
       "      <td>0.003475</td>\n",
       "      <td>10</td>\n",
       "    </tr>\n",
       "    <tr>\n",
       "      <th>8</th>\n",
       "      <td>0.148627</td>\n",
       "      <td>0.023886</td>\n",
       "      <td>0.008085</td>\n",
       "      <td>0.000096</td>\n",
       "      <td>passthrough</td>\n",
       "      <td>RobustScaler()</td>\n",
       "      <td>{'sampling': 'passthrough', 'scaler': RobustSc...</td>\n",
       "      <td>0.608507</td>\n",
       "      <td>0.599615</td>\n",
       "      <td>0.592734</td>\n",
       "      <td>0.601516</td>\n",
       "      <td>0.605644</td>\n",
       "      <td>0.601603</td>\n",
       "      <td>0.005415</td>\n",
       "      <td>4</td>\n",
       "    </tr>\n",
       "    <tr>\n",
       "      <th>9</th>\n",
       "      <td>0.141547</td>\n",
       "      <td>0.019761</td>\n",
       "      <td>0.008963</td>\n",
       "      <td>0.001202</td>\n",
       "      <td>passthrough</td>\n",
       "      <td>MinMaxScaler()</td>\n",
       "      <td>{'sampling': 'passthrough', 'scaler': MinMaxSc...</td>\n",
       "      <td>0.606037</td>\n",
       "      <td>0.596971</td>\n",
       "      <td>0.590142</td>\n",
       "      <td>0.597661</td>\n",
       "      <td>0.603006</td>\n",
       "      <td>0.598764</td>\n",
       "      <td>0.005471</td>\n",
       "      <td>7</td>\n",
       "    </tr>\n",
       "    <tr>\n",
       "      <th>10</th>\n",
       "      <td>0.110284</td>\n",
       "      <td>0.013295</td>\n",
       "      <td>0.008559</td>\n",
       "      <td>0.000514</td>\n",
       "      <td>passthrough</td>\n",
       "      <td>StandardScaler()</td>\n",
       "      <td>{'sampling': 'passthrough', 'scaler': Standard...</td>\n",
       "      <td>0.608500</td>\n",
       "      <td>0.599609</td>\n",
       "      <td>0.592749</td>\n",
       "      <td>0.601550</td>\n",
       "      <td>0.605672</td>\n",
       "      <td>0.601616</td>\n",
       "      <td>0.005413</td>\n",
       "      <td>1</td>\n",
       "    </tr>\n",
       "    <tr>\n",
       "      <th>11</th>\n",
       "      <td>0.110908</td>\n",
       "      <td>0.010397</td>\n",
       "      <td>0.006810</td>\n",
       "      <td>0.000999</td>\n",
       "      <td>passthrough</td>\n",
       "      <td>passthrough</td>\n",
       "      <td>{'sampling': 'passthrough', 'scaler': 'passthr...</td>\n",
       "      <td>0.586521</td>\n",
       "      <td>0.582109</td>\n",
       "      <td>0.579801</td>\n",
       "      <td>0.575846</td>\n",
       "      <td>0.580139</td>\n",
       "      <td>0.580883</td>\n",
       "      <td>0.003475</td>\n",
       "      <td>10</td>\n",
       "    </tr>\n",
       "  </tbody>\n",
       "</table>\n",
       "</div>"
      ],
      "text/plain": [
       "    mean_fit_time  std_fit_time  mean_score_time  std_score_time        param_sampling      param_scaler                                             params  split0_test_score  split1_test_score  split2_test_score  split3_test_score  split4_test_score  mean_test_score  std_test_score  rank_test_score\n",
       "0        0.222941      0.046706         0.008763        0.000418               SMOTE()    RobustScaler()    {'sampling': SMOTE(), 'scaler': RobustScaler()}           0.608507           0.599615           0.592734           0.601516           0.605644         0.601603        0.005415                4\n",
       "1        0.159298      0.023562         0.008476        0.000347               SMOTE()    MinMaxScaler()    {'sampling': SMOTE(), 'scaler': MinMaxScaler()}           0.606037           0.596971           0.590142           0.597661           0.603006         0.598764        0.005471                7\n",
       "2        0.127089      0.013507         0.008639        0.000521               SMOTE()  StandardScaler()  {'sampling': SMOTE(), 'scaler': StandardScaler()}           0.608500           0.599609           0.592749           0.601550           0.605672         0.601616        0.005413                1\n",
       "3        0.127268      0.013268         0.007700        0.000274               SMOTE()       passthrough     {'sampling': SMOTE(), 'scaler': 'passthrough'}           0.586521           0.582109           0.579801           0.575846           0.580139         0.580883        0.003475               10\n",
       "4        0.182624      0.031800         0.008153        0.000285  RandomUnderSampler()    RobustScaler()  {'sampling': RandomUnderSampler(), 'scaler': R...           0.608507           0.599615           0.592734           0.601516           0.605644         0.601603        0.005415                4\n",
       "5        0.181777      0.014800         0.008284        0.000154  RandomUnderSampler()    MinMaxScaler()  {'sampling': RandomUnderSampler(), 'scaler': M...           0.606037           0.596971           0.590142           0.597661           0.603006         0.598764        0.005471                7\n",
       "6        0.132472      0.012574         0.008986        0.000983  RandomUnderSampler()  StandardScaler()  {'sampling': RandomUnderSampler(), 'scaler': S...           0.608500           0.599609           0.592749           0.601550           0.605672         0.601616        0.005413                1\n",
       "7        0.136477      0.015314         0.007796        0.000437  RandomUnderSampler()       passthrough  {'sampling': RandomUnderSampler(), 'scaler': '...           0.586521           0.582109           0.579801           0.575846           0.580139         0.580883        0.003475               10\n",
       "8        0.148627      0.023886         0.008085        0.000096           passthrough    RobustScaler()  {'sampling': 'passthrough', 'scaler': RobustSc...           0.608507           0.599615           0.592734           0.601516           0.605644         0.601603        0.005415                4\n",
       "9        0.141547      0.019761         0.008963        0.001202           passthrough    MinMaxScaler()  {'sampling': 'passthrough', 'scaler': MinMaxSc...           0.606037           0.596971           0.590142           0.597661           0.603006         0.598764        0.005471                7\n",
       "10       0.110284      0.013295         0.008559        0.000514           passthrough  StandardScaler()  {'sampling': 'passthrough', 'scaler': Standard...           0.608500           0.599609           0.592749           0.601550           0.605672         0.601616        0.005413                1\n",
       "11       0.110908      0.010397         0.006810        0.000999           passthrough       passthrough  {'sampling': 'passthrough', 'scaler': 'passthr...           0.586521           0.582109           0.579801           0.575846           0.580139         0.580883        0.003475               10"
      ]
     },
     "execution_count": 83,
     "metadata": {},
     "output_type": "execute_result"
    }
   ],
   "source": [
    "scores=pd.DataFrame(grid.cv_results_)\n",
    "scores"
   ]
  },
  {
   "cell_type": "code",
   "execution_count": 84,
   "id": "b1a60174",
   "metadata": {},
   "outputs": [
    {
     "data": {
      "text/plain": [
       "0.17898908484357784"
      ]
     },
     "execution_count": 84,
     "metadata": {},
     "output_type": "execute_result"
    }
   ],
   "source": [
    "yhat = grid.predict(X)\n",
    "f1_sc=f1_score(y,yhat)\n",
    "f1_sc"
   ]
  },
  {
   "cell_type": "markdown",
   "id": "90acf967",
   "metadata": {},
   "source": [
    "## 1.7 Utilisation de LGBM Classifier"
   ]
  },
  {
   "cell_type": "code",
   "execution_count": 119,
   "id": "ec92b9e6",
   "metadata": {},
   "outputs": [],
   "source": [
    "from lightgbm import LGBMClassifier\n",
    "\n",
    "lgbmc=LGBMClassifier()\n",
    "\n",
    "clf = lgbmc.fit(X_train, y_train)"
   ]
  },
  {
   "cell_type": "code",
   "execution_count": 120,
   "id": "1b4919e2",
   "metadata": {},
   "outputs": [],
   "source": [
    "#Prediction\n",
    "y_pred=clf.predict(X_test)\n",
    "#convert into binary values\n",
    "for i in range(0,len(y_pred)):\n",
    "    if y_pred[i]>=.5:       # setting threshold to .5\n",
    "        y_pred[i]=1\n",
    "    else:  \n",
    "        y_pred[i]=0"
   ]
  },
  {
   "cell_type": "code",
   "execution_count": 121,
   "id": "85cd2918",
   "metadata": {},
   "outputs": [
    {
     "data": {
      "text/plain": [
       "0.4999929243113586"
      ]
     },
     "execution_count": 121,
     "metadata": {},
     "output_type": "execute_result"
    }
   ],
   "source": [
    "auroc=roc_auc_score(y_test,y_pred)\n",
    "auroc"
   ]
  },
  {
   "cell_type": "code",
   "execution_count": 122,
   "id": "ae7a5a83",
   "metadata": {},
   "outputs": [
    {
     "data": {
      "text/plain": [
       "0.0"
      ]
     },
     "execution_count": 122,
     "metadata": {},
     "output_type": "execute_result"
    }
   ],
   "source": [
    "f1_sc=f1_score(y_test,y_pred)\n",
    "f1_sc"
   ]
  },
  {
   "cell_type": "markdown",
   "id": "6b6805b3",
   "metadata": {},
   "source": [
    "## 1.8 Dummy classifier"
   ]
  },
  {
   "cell_type": "code",
   "execution_count": 89,
   "id": "fb3aaa05",
   "metadata": {},
   "outputs": [],
   "source": [
    "from sklearn.dummy import DummyClassifier"
   ]
  },
  {
   "cell_type": "code",
   "execution_count": 90,
   "id": "fe829acb",
   "metadata": {},
   "outputs": [],
   "source": [
    "dmc=DummyClassifier()"
   ]
  },
  {
   "cell_type": "code",
   "execution_count": 91,
   "id": "83eb93a5",
   "metadata": {},
   "outputs": [
    {
     "name": "stdout",
     "output_type": "stream",
     "text": [
      "Fitting 5 folds for each of 1 candidates, totalling 5 fits\n"
     ]
    },
    {
     "data": {
      "text/plain": [
       "GridSearchCV(cv=5,\n",
       "             estimator=Pipeline(steps=[('sampling', SMOTE()),\n",
       "                                       ('scaler', StandardScaler()),\n",
       "                                       ('classification', DummyClassifier())]),\n",
       "             n_jobs=-1, param_grid={}, scoring='roc_auc', verbose=1)"
      ]
     },
     "execution_count": 91,
     "metadata": {},
     "output_type": "execute_result"
    }
   ],
   "source": [
    "pipe = Pipeline([\n",
    "        ('sampling', SMOTE()), ('scaler',StandardScaler()), \n",
    "        ('classification', dmc)\n",
    "    ])\n",
    "\n",
    "grid = GridSearchCV(pipe, {}, scoring='roc_auc', n_jobs=-1, verbose=1, cv=5)\n",
    "grid.fit(X, y)"
   ]
  },
  {
   "cell_type": "code",
   "execution_count": 92,
   "id": "4534082e",
   "metadata": {},
   "outputs": [
    {
     "data": {
      "text/html": [
       "<div>\n",
       "<style scoped>\n",
       "    .dataframe tbody tr th:only-of-type {\n",
       "        vertical-align: middle;\n",
       "    }\n",
       "\n",
       "    .dataframe tbody tr th {\n",
       "        vertical-align: top;\n",
       "    }\n",
       "\n",
       "    .dataframe thead th {\n",
       "        text-align: right;\n",
       "    }\n",
       "</style>\n",
       "<table border=\"1\" class=\"dataframe\">\n",
       "  <thead>\n",
       "    <tr style=\"text-align: right;\">\n",
       "      <th></th>\n",
       "      <th>mean_fit_time</th>\n",
       "      <th>std_fit_time</th>\n",
       "      <th>mean_score_time</th>\n",
       "      <th>std_score_time</th>\n",
       "      <th>params</th>\n",
       "      <th>split0_test_score</th>\n",
       "      <th>split1_test_score</th>\n",
       "      <th>split2_test_score</th>\n",
       "      <th>split3_test_score</th>\n",
       "      <th>split4_test_score</th>\n",
       "      <th>mean_test_score</th>\n",
       "      <th>std_test_score</th>\n",
       "      <th>rank_test_score</th>\n",
       "    </tr>\n",
       "  </thead>\n",
       "  <tbody>\n",
       "    <tr>\n",
       "      <th>0</th>\n",
       "      <td>0.709504</td>\n",
       "      <td>0.164889</td>\n",
       "      <td>0.023288</td>\n",
       "      <td>0.006557</td>\n",
       "      <td>{}</td>\n",
       "      <td>0.5</td>\n",
       "      <td>0.5</td>\n",
       "      <td>0.5</td>\n",
       "      <td>0.5</td>\n",
       "      <td>0.5</td>\n",
       "      <td>0.5</td>\n",
       "      <td>0.0</td>\n",
       "      <td>1</td>\n",
       "    </tr>\n",
       "  </tbody>\n",
       "</table>\n",
       "</div>"
      ],
      "text/plain": [
       "   mean_fit_time  std_fit_time  mean_score_time  std_score_time params  split0_test_score  split1_test_score  split2_test_score  split3_test_score  split4_test_score  mean_test_score  std_test_score  rank_test_score\n",
       "0       0.709504      0.164889         0.023288        0.006557     {}                0.5                0.5                0.5                0.5                0.5              0.5             0.0                1"
      ]
     },
     "execution_count": 92,
     "metadata": {},
     "output_type": "execute_result"
    }
   ],
   "source": [
    "scores=pd.DataFrame(grid.cv_results_)\n",
    "scores"
   ]
  },
  {
   "cell_type": "code",
   "execution_count": 93,
   "id": "a8378d13",
   "metadata": {},
   "outputs": [
    {
     "data": {
      "text/plain": [
       "0.0"
      ]
     },
     "execution_count": 93,
     "metadata": {},
     "output_type": "execute_result"
    }
   ],
   "source": [
    "yhat = grid.predict(X)\n",
    "f1_sc=f1_score(y,yhat)\n",
    "f1_sc"
   ]
  },
  {
   "cell_type": "markdown",
   "id": "1e940a88",
   "metadata": {},
   "source": [
    "## 1.9 Utilisation du paramètre class_weight"
   ]
  },
  {
   "cell_type": "markdown",
   "id": "c5a7afae",
   "metadata": {},
   "source": [
    "### Random Forest"
   ]
  },
  {
   "cell_type": "code",
   "execution_count": 94,
   "id": "de68e64c",
   "metadata": {},
   "outputs": [],
   "source": [
    "rfc_cw=RandomForestClassifier(max_depth=10,random_state=0, class_weight=\"balanced\")"
   ]
  },
  {
   "cell_type": "code",
   "execution_count": 95,
   "id": "dc2cd0a7",
   "metadata": {},
   "outputs": [],
   "source": [
    "grid=GridSearchCV(rfc_cw,{},scoring='roc_auc', n_jobs=-1, verbose=1, cv=5)"
   ]
  },
  {
   "cell_type": "code",
   "execution_count": 96,
   "id": "13061749",
   "metadata": {},
   "outputs": [
    {
     "name": "stdout",
     "output_type": "stream",
     "text": [
      "Fitting 5 folds for each of 1 candidates, totalling 5 fits\n"
     ]
    }
   ],
   "source": [
    "result=grid.fit(X,y)"
   ]
  },
  {
   "cell_type": "code",
   "execution_count": 97,
   "id": "04ccb987",
   "metadata": {},
   "outputs": [
    {
     "data": {
      "text/plain": [
       "0.21722025559961838"
      ]
     },
     "execution_count": 97,
     "metadata": {},
     "output_type": "execute_result"
    }
   ],
   "source": [
    "yhat = grid.predict(X)\n",
    "f1_sc=f1_score(y,yhat)\n",
    "f1_sc"
   ]
  },
  {
   "cell_type": "code",
   "execution_count": 98,
   "id": "2865a765",
   "metadata": {},
   "outputs": [
    {
     "data": {
      "text/html": [
       "<div>\n",
       "<style scoped>\n",
       "    .dataframe tbody tr th:only-of-type {\n",
       "        vertical-align: middle;\n",
       "    }\n",
       "\n",
       "    .dataframe tbody tr th {\n",
       "        vertical-align: top;\n",
       "    }\n",
       "\n",
       "    .dataframe thead th {\n",
       "        text-align: right;\n",
       "    }\n",
       "</style>\n",
       "<table border=\"1\" class=\"dataframe\">\n",
       "  <thead>\n",
       "    <tr style=\"text-align: right;\">\n",
       "      <th></th>\n",
       "      <th>mean_fit_time</th>\n",
       "      <th>std_fit_time</th>\n",
       "      <th>mean_score_time</th>\n",
       "      <th>std_score_time</th>\n",
       "      <th>params</th>\n",
       "      <th>split0_test_score</th>\n",
       "      <th>split1_test_score</th>\n",
       "      <th>split2_test_score</th>\n",
       "      <th>split3_test_score</th>\n",
       "      <th>split4_test_score</th>\n",
       "      <th>mean_test_score</th>\n",
       "      <th>std_test_score</th>\n",
       "      <th>rank_test_score</th>\n",
       "    </tr>\n",
       "  </thead>\n",
       "  <tbody>\n",
       "    <tr>\n",
       "      <th>0</th>\n",
       "      <td>41.481909</td>\n",
       "      <td>12.295042</td>\n",
       "      <td>0.834733</td>\n",
       "      <td>0.115325</td>\n",
       "      <td>{}</td>\n",
       "      <td>0.64219</td>\n",
       "      <td>0.632161</td>\n",
       "      <td>0.631085</td>\n",
       "      <td>0.632732</td>\n",
       "      <td>0.636323</td>\n",
       "      <td>0.634898</td>\n",
       "      <td>0.004048</td>\n",
       "      <td>1</td>\n",
       "    </tr>\n",
       "  </tbody>\n",
       "</table>\n",
       "</div>"
      ],
      "text/plain": [
       "   mean_fit_time  std_fit_time  mean_score_time  std_score_time params  split0_test_score  split1_test_score  split2_test_score  split3_test_score  split4_test_score  mean_test_score  std_test_score  rank_test_score\n",
       "0      41.481909     12.295042         0.834733        0.115325     {}            0.64219           0.632161           0.631085           0.632732           0.636323         0.634898        0.004048                1"
      ]
     },
     "execution_count": 98,
     "metadata": {},
     "output_type": "execute_result"
    }
   ],
   "source": [
    "scores=pd.DataFrame(grid.cv_results_)\n",
    "scores"
   ]
  },
  {
   "cell_type": "markdown",
   "id": "5f5fe88d",
   "metadata": {},
   "source": [
    "### Logistic regression classifier"
   ]
  },
  {
   "cell_type": "code",
   "execution_count": 99,
   "id": "b7d6601a",
   "metadata": {},
   "outputs": [],
   "source": [
    "lrc_cw=LogisticRegression(class_weight=\"balanced\")"
   ]
  },
  {
   "cell_type": "code",
   "execution_count": 100,
   "id": "4e08724e",
   "metadata": {},
   "outputs": [],
   "source": [
    "param_dict={'sampling' : [SMOTE(),RandomUnderSampler(), \"passthrough\"], 'scaler' : [RobustScaler(),MinMaxScaler(),\n",
    "                                                                                   StandardScaler(),\n",
    "                                                                                   \"passthrough\"]}"
   ]
  },
  {
   "cell_type": "code",
   "execution_count": 102,
   "id": "465ce2e9",
   "metadata": {},
   "outputs": [
    {
     "name": "stdout",
     "output_type": "stream",
     "text": [
      "Fitting 5 folds for each of 12 candidates, totalling 60 fits\n"
     ]
    },
    {
     "data": {
      "text/plain": [
       "GridSearchCV(cv=5,\n",
       "             estimator=Pipeline(steps=[('sampling', SMOTE()),\n",
       "                                       ('scaler', StandardScaler()),\n",
       "                                       ('classification',\n",
       "                                        LogisticRegression(class_weight='balanced'))]),\n",
       "             n_jobs=-1,\n",
       "             param_grid={'sampling': [SMOTE(), RandomUnderSampler(),\n",
       "                                      'passthrough'],\n",
       "                         'scaler': [RobustScaler(), MinMaxScaler(),\n",
       "                                    StandardScaler(), 'passthrough']},\n",
       "             scoring='roc_auc', verbose=1)"
      ]
     },
     "execution_count": 102,
     "metadata": {},
     "output_type": "execute_result"
    }
   ],
   "source": [
    "pipe = Pipeline([\n",
    "        ('sampling', SMOTE()), ('scaler',StandardScaler()), \n",
    "        ('classification', lrc_cw)\n",
    "    ])\n",
    "\n",
    "grid = GridSearchCV(pipe, param_dict, scoring='roc_auc', n_jobs=-1, verbose=1, cv=5)\n",
    "grid.fit(X, y)"
   ]
  },
  {
   "cell_type": "code",
   "execution_count": 103,
   "id": "47a5fc79",
   "metadata": {},
   "outputs": [
    {
     "data": {
      "text/plain": [
       "0.1791409848434144"
      ]
     },
     "execution_count": 103,
     "metadata": {},
     "output_type": "execute_result"
    }
   ],
   "source": [
    "yhat = grid.predict(X)\n",
    "f1_sc=f1_score(y,yhat)\n",
    "f1_sc"
   ]
  },
  {
   "cell_type": "code",
   "execution_count": 104,
   "id": "1d1cdf4d",
   "metadata": {},
   "outputs": [
    {
     "data": {
      "text/html": [
       "<div>\n",
       "<style scoped>\n",
       "    .dataframe tbody tr th:only-of-type {\n",
       "        vertical-align: middle;\n",
       "    }\n",
       "\n",
       "    .dataframe tbody tr th {\n",
       "        vertical-align: top;\n",
       "    }\n",
       "\n",
       "    .dataframe thead th {\n",
       "        text-align: right;\n",
       "    }\n",
       "</style>\n",
       "<table border=\"1\" class=\"dataframe\">\n",
       "  <thead>\n",
       "    <tr style=\"text-align: right;\">\n",
       "      <th></th>\n",
       "      <th>mean_fit_time</th>\n",
       "      <th>std_fit_time</th>\n",
       "      <th>mean_score_time</th>\n",
       "      <th>std_score_time</th>\n",
       "      <th>param_sampling</th>\n",
       "      <th>param_scaler</th>\n",
       "      <th>params</th>\n",
       "      <th>split0_test_score</th>\n",
       "      <th>split1_test_score</th>\n",
       "      <th>split2_test_score</th>\n",
       "      <th>split3_test_score</th>\n",
       "      <th>split4_test_score</th>\n",
       "      <th>mean_test_score</th>\n",
       "      <th>std_test_score</th>\n",
       "      <th>rank_test_score</th>\n",
       "    </tr>\n",
       "  </thead>\n",
       "  <tbody>\n",
       "    <tr>\n",
       "      <th>0</th>\n",
       "      <td>2.296024</td>\n",
       "      <td>0.460755</td>\n",
       "      <td>0.034840</td>\n",
       "      <td>0.002142</td>\n",
       "      <td>SMOTE()</td>\n",
       "      <td>RobustScaler()</td>\n",
       "      <td>{'sampling': SMOTE(), 'scaler': RobustScaler()}</td>\n",
       "      <td>0.508064</td>\n",
       "      <td>0.518648</td>\n",
       "      <td>0.511014</td>\n",
       "      <td>0.509826</td>\n",
       "      <td>0.518253</td>\n",
       "      <td>0.513161</td>\n",
       "      <td>0.004421</td>\n",
       "      <td>10</td>\n",
       "    </tr>\n",
       "    <tr>\n",
       "      <th>1</th>\n",
       "      <td>5.341968</td>\n",
       "      <td>0.849628</td>\n",
       "      <td>0.058066</td>\n",
       "      <td>0.026821</td>\n",
       "      <td>SMOTE()</td>\n",
       "      <td>MinMaxScaler()</td>\n",
       "      <td>{'sampling': SMOTE(), 'scaler': MinMaxScaler()}</td>\n",
       "      <td>0.505761</td>\n",
       "      <td>0.516687</td>\n",
       "      <td>0.509061</td>\n",
       "      <td>0.507339</td>\n",
       "      <td>0.516727</td>\n",
       "      <td>0.511115</td>\n",
       "      <td>0.004684</td>\n",
       "      <td>12</td>\n",
       "    </tr>\n",
       "    <tr>\n",
       "      <th>2</th>\n",
       "      <td>1.991570</td>\n",
       "      <td>0.304980</td>\n",
       "      <td>0.043589</td>\n",
       "      <td>0.010761</td>\n",
       "      <td>SMOTE()</td>\n",
       "      <td>StandardScaler()</td>\n",
       "      <td>{'sampling': SMOTE(), 'scaler': StandardScaler()}</td>\n",
       "      <td>0.508123</td>\n",
       "      <td>0.518372</td>\n",
       "      <td>0.510814</td>\n",
       "      <td>0.509541</td>\n",
       "      <td>0.518094</td>\n",
       "      <td>0.512989</td>\n",
       "      <td>0.004367</td>\n",
       "      <td>11</td>\n",
       "    </tr>\n",
       "    <tr>\n",
       "      <th>3</th>\n",
       "      <td>2.184909</td>\n",
       "      <td>0.167063</td>\n",
       "      <td>0.033805</td>\n",
       "      <td>0.004015</td>\n",
       "      <td>SMOTE()</td>\n",
       "      <td>passthrough</td>\n",
       "      <td>{'sampling': SMOTE(), 'scaler': 'passthrough'}</td>\n",
       "      <td>0.586678</td>\n",
       "      <td>0.577528</td>\n",
       "      <td>0.582037</td>\n",
       "      <td>0.576345</td>\n",
       "      <td>0.583349</td>\n",
       "      <td>0.581187</td>\n",
       "      <td>0.003805</td>\n",
       "      <td>7</td>\n",
       "    </tr>\n",
       "    <tr>\n",
       "      <th>4</th>\n",
       "      <td>0.305335</td>\n",
       "      <td>0.041134</td>\n",
       "      <td>0.043255</td>\n",
       "      <td>0.015077</td>\n",
       "      <td>RandomUnderSampler()</td>\n",
       "      <td>RobustScaler()</td>\n",
       "      <td>{'sampling': RandomUnderSampler(), 'scaler': R...</td>\n",
       "      <td>0.607477</td>\n",
       "      <td>0.593471</td>\n",
       "      <td>0.597859</td>\n",
       "      <td>0.598586</td>\n",
       "      <td>0.601362</td>\n",
       "      <td>0.599751</td>\n",
       "      <td>0.004619</td>\n",
       "      <td>4</td>\n",
       "    </tr>\n",
       "    <tr>\n",
       "      <th>5</th>\n",
       "      <td>0.315379</td>\n",
       "      <td>0.033010</td>\n",
       "      <td>0.039625</td>\n",
       "      <td>0.003743</td>\n",
       "      <td>RandomUnderSampler()</td>\n",
       "      <td>MinMaxScaler()</td>\n",
       "      <td>{'sampling': RandomUnderSampler(), 'scaler': M...</td>\n",
       "      <td>0.604946</td>\n",
       "      <td>0.588939</td>\n",
       "      <td>0.593256</td>\n",
       "      <td>0.596720</td>\n",
       "      <td>0.599378</td>\n",
       "      <td>0.596648</td>\n",
       "      <td>0.005427</td>\n",
       "      <td>6</td>\n",
       "    </tr>\n",
       "    <tr>\n",
       "      <th>6</th>\n",
       "      <td>0.240428</td>\n",
       "      <td>0.018496</td>\n",
       "      <td>0.042720</td>\n",
       "      <td>0.013006</td>\n",
       "      <td>RandomUnderSampler()</td>\n",
       "      <td>StandardScaler()</td>\n",
       "      <td>{'sampling': RandomUnderSampler(), 'scaler': S...</td>\n",
       "      <td>0.608318</td>\n",
       "      <td>0.593519</td>\n",
       "      <td>0.597345</td>\n",
       "      <td>0.598347</td>\n",
       "      <td>0.601965</td>\n",
       "      <td>0.599899</td>\n",
       "      <td>0.004996</td>\n",
       "      <td>1</td>\n",
       "    </tr>\n",
       "    <tr>\n",
       "      <th>7</th>\n",
       "      <td>0.249489</td>\n",
       "      <td>0.009168</td>\n",
       "      <td>0.031650</td>\n",
       "      <td>0.001063</td>\n",
       "      <td>RandomUnderSampler()</td>\n",
       "      <td>passthrough</td>\n",
       "      <td>{'sampling': RandomUnderSampler(), 'scaler': '...</td>\n",
       "      <td>0.586521</td>\n",
       "      <td>0.576981</td>\n",
       "      <td>0.581186</td>\n",
       "      <td>0.575708</td>\n",
       "      <td>0.583115</td>\n",
       "      <td>0.580702</td>\n",
       "      <td>0.003968</td>\n",
       "      <td>8</td>\n",
       "    </tr>\n",
       "    <tr>\n",
       "      <th>8</th>\n",
       "      <td>1.088326</td>\n",
       "      <td>0.244485</td>\n",
       "      <td>0.035854</td>\n",
       "      <td>0.003661</td>\n",
       "      <td>passthrough</td>\n",
       "      <td>RobustScaler()</td>\n",
       "      <td>{'sampling': 'passthrough', 'scaler': RobustSc...</td>\n",
       "      <td>0.607841</td>\n",
       "      <td>0.593411</td>\n",
       "      <td>0.597607</td>\n",
       "      <td>0.598582</td>\n",
       "      <td>0.601583</td>\n",
       "      <td>0.599805</td>\n",
       "      <td>0.004795</td>\n",
       "      <td>3</td>\n",
       "    </tr>\n",
       "    <tr>\n",
       "      <th>9</th>\n",
       "      <td>1.859342</td>\n",
       "      <td>0.493732</td>\n",
       "      <td>0.039475</td>\n",
       "      <td>0.004719</td>\n",
       "      <td>passthrough</td>\n",
       "      <td>MinMaxScaler()</td>\n",
       "      <td>{'sampling': 'passthrough', 'scaler': MinMaxSc...</td>\n",
       "      <td>0.607952</td>\n",
       "      <td>0.592894</td>\n",
       "      <td>0.597008</td>\n",
       "      <td>0.597942</td>\n",
       "      <td>0.601286</td>\n",
       "      <td>0.599416</td>\n",
       "      <td>0.005037</td>\n",
       "      <td>5</td>\n",
       "    </tr>\n",
       "    <tr>\n",
       "      <th>10</th>\n",
       "      <td>0.763344</td>\n",
       "      <td>0.039992</td>\n",
       "      <td>0.036153</td>\n",
       "      <td>0.002098</td>\n",
       "      <td>passthrough</td>\n",
       "      <td>StandardScaler()</td>\n",
       "      <td>{'sampling': 'passthrough', 'scaler': Standard...</td>\n",
       "      <td>0.607840</td>\n",
       "      <td>0.593411</td>\n",
       "      <td>0.597606</td>\n",
       "      <td>0.598582</td>\n",
       "      <td>0.601586</td>\n",
       "      <td>0.599805</td>\n",
       "      <td>0.004795</td>\n",
       "      <td>2</td>\n",
       "    </tr>\n",
       "    <tr>\n",
       "      <th>11</th>\n",
       "      <td>0.652643</td>\n",
       "      <td>0.121061</td>\n",
       "      <td>0.028439</td>\n",
       "      <td>0.008836</td>\n",
       "      <td>passthrough</td>\n",
       "      <td>passthrough</td>\n",
       "      <td>{'sampling': 'passthrough', 'scaler': 'passthr...</td>\n",
       "      <td>0.586661</td>\n",
       "      <td>0.577005</td>\n",
       "      <td>0.581403</td>\n",
       "      <td>0.575727</td>\n",
       "      <td>0.582542</td>\n",
       "      <td>0.580668</td>\n",
       "      <td>0.003945</td>\n",
       "      <td>9</td>\n",
       "    </tr>\n",
       "  </tbody>\n",
       "</table>\n",
       "</div>"
      ],
      "text/plain": [
       "    mean_fit_time  std_fit_time  mean_score_time  std_score_time        param_sampling      param_scaler                                             params  split0_test_score  split1_test_score  split2_test_score  split3_test_score  split4_test_score  mean_test_score  std_test_score  rank_test_score\n",
       "0        2.296024      0.460755         0.034840        0.002142               SMOTE()    RobustScaler()    {'sampling': SMOTE(), 'scaler': RobustScaler()}           0.508064           0.518648           0.511014           0.509826           0.518253         0.513161        0.004421               10\n",
       "1        5.341968      0.849628         0.058066        0.026821               SMOTE()    MinMaxScaler()    {'sampling': SMOTE(), 'scaler': MinMaxScaler()}           0.505761           0.516687           0.509061           0.507339           0.516727         0.511115        0.004684               12\n",
       "2        1.991570      0.304980         0.043589        0.010761               SMOTE()  StandardScaler()  {'sampling': SMOTE(), 'scaler': StandardScaler()}           0.508123           0.518372           0.510814           0.509541           0.518094         0.512989        0.004367               11\n",
       "3        2.184909      0.167063         0.033805        0.004015               SMOTE()       passthrough     {'sampling': SMOTE(), 'scaler': 'passthrough'}           0.586678           0.577528           0.582037           0.576345           0.583349         0.581187        0.003805                7\n",
       "4        0.305335      0.041134         0.043255        0.015077  RandomUnderSampler()    RobustScaler()  {'sampling': RandomUnderSampler(), 'scaler': R...           0.607477           0.593471           0.597859           0.598586           0.601362         0.599751        0.004619                4\n",
       "5        0.315379      0.033010         0.039625        0.003743  RandomUnderSampler()    MinMaxScaler()  {'sampling': RandomUnderSampler(), 'scaler': M...           0.604946           0.588939           0.593256           0.596720           0.599378         0.596648        0.005427                6\n",
       "6        0.240428      0.018496         0.042720        0.013006  RandomUnderSampler()  StandardScaler()  {'sampling': RandomUnderSampler(), 'scaler': S...           0.608318           0.593519           0.597345           0.598347           0.601965         0.599899        0.004996                1\n",
       "7        0.249489      0.009168         0.031650        0.001063  RandomUnderSampler()       passthrough  {'sampling': RandomUnderSampler(), 'scaler': '...           0.586521           0.576981           0.581186           0.575708           0.583115         0.580702        0.003968                8\n",
       "8        1.088326      0.244485         0.035854        0.003661           passthrough    RobustScaler()  {'sampling': 'passthrough', 'scaler': RobustSc...           0.607841           0.593411           0.597607           0.598582           0.601583         0.599805        0.004795                3\n",
       "9        1.859342      0.493732         0.039475        0.004719           passthrough    MinMaxScaler()  {'sampling': 'passthrough', 'scaler': MinMaxSc...           0.607952           0.592894           0.597008           0.597942           0.601286         0.599416        0.005037                5\n",
       "10       0.763344      0.039992         0.036153        0.002098           passthrough  StandardScaler()  {'sampling': 'passthrough', 'scaler': Standard...           0.607840           0.593411           0.597606           0.598582           0.601586         0.599805        0.004795                2\n",
       "11       0.652643      0.121061         0.028439        0.008836           passthrough       passthrough  {'sampling': 'passthrough', 'scaler': 'passthr...           0.586661           0.577005           0.581403           0.575727           0.582542         0.580668        0.003945                9"
      ]
     },
     "execution_count": 104,
     "metadata": {},
     "output_type": "execute_result"
    }
   ],
   "source": [
    "scores=pd.DataFrame(grid.cv_results_)\n",
    "scores"
   ]
  },
  {
   "cell_type": "markdown",
   "id": "d1159c3f",
   "metadata": {},
   "source": [
    "### LGBM Classifier"
   ]
  },
  {
   "cell_type": "code",
   "execution_count": 115,
   "id": "fc7490cf",
   "metadata": {},
   "outputs": [],
   "source": [
    "from lightgbm import LGBMClassifier\n",
    "\n",
    "lgbmc=LGBMClassifier(class_weight='balanced')\n",
    "\n",
    "clf = lgbmc.fit(X_train, y_train)"
   ]
  },
  {
   "cell_type": "code",
   "execution_count": 116,
   "id": "a1c18d2e",
   "metadata": {},
   "outputs": [],
   "source": [
    "#Prediction\n",
    "y_pred=clf.predict(X_test)\n",
    "#convert into binary values\n",
    "for i in range(0,len(y_pred)):\n",
    "    if y_pred[i]>=.5:       # setting threshold to .5\n",
    "        y_pred[i]=1\n",
    "    else:  \n",
    "        y_pred[i]=0"
   ]
  },
  {
   "cell_type": "code",
   "execution_count": 117,
   "id": "a5728eee",
   "metadata": {},
   "outputs": [
    {
     "data": {
      "text/plain": [
       "0.5996054593732916"
      ]
     },
     "execution_count": 117,
     "metadata": {},
     "output_type": "execute_result"
    }
   ],
   "source": [
    "auroc=roc_auc_score(y_test,y_pred)\n",
    "auroc"
   ]
  },
  {
   "cell_type": "code",
   "execution_count": 118,
   "id": "751fa168",
   "metadata": {},
   "outputs": [
    {
     "data": {
      "text/plain": [
       "0.19933218054975851"
      ]
     },
     "execution_count": 118,
     "metadata": {},
     "output_type": "execute_result"
    }
   ],
   "source": [
    "f1_sc=f1_score(y_test,y_pred)\n",
    "f1_sc"
   ]
  },
  {
   "cell_type": "markdown",
   "id": "7309ed7d",
   "metadata": {},
   "source": [
    "### Rajouter randomundersampler"
   ]
  },
  {
   "cell_type": "markdown",
   "id": "0ca3ee3f",
   "metadata": {},
   "source": [
    "### Essayer plusieurs sampler, scaler, pour différent modèle, faire df score et garder le meilleur modèle"
   ]
  },
  {
   "cell_type": "markdown",
   "id": "feb442df",
   "metadata": {},
   "source": [
    "### Essayer shap"
   ]
  },
  {
   "cell_type": "code",
   "execution_count": 124,
   "id": "29f2b472",
   "metadata": {},
   "outputs": [],
   "source": [
    "# import shap"
   ]
  },
  {
   "cell_type": "code",
   "execution_count": 125,
   "id": "ea167b5e",
   "metadata": {},
   "outputs": [],
   "source": [
    "# import meilleur modèle dans un fichier avec pickle"
   ]
  },
  {
   "cell_type": "code",
   "execution_count": 126,
   "id": "5c28f9c2",
   "metadata": {},
   "outputs": [],
   "source": [
    "# api : renommer notebook en .py, puis utiliser flask"
   ]
  },
  {
   "cell_type": "markdown",
   "id": "b40b34d9",
   "metadata": {},
   "source": []
  },
  {
   "cell_type": "code",
   "execution_count": null,
   "id": "9687b5a2",
   "metadata": {},
   "outputs": [],
   "source": []
  }
 ],
 "metadata": {
  "kernelspec": {
   "display_name": "Python 3 (ipykernel)",
   "language": "python",
   "name": "python3"
  },
  "language_info": {
   "codemirror_mode": {
    "name": "ipython",
    "version": 3
   },
   "file_extension": ".py",
   "mimetype": "text/x-python",
   "name": "python",
   "nbconvert_exporter": "python",
   "pygments_lexer": "ipython3",
   "version": "3.9.7"
  }
 },
 "nbformat": 4,
 "nbformat_minor": 5
}
